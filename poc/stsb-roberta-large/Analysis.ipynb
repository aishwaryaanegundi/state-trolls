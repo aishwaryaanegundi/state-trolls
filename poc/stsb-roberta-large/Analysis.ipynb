{
 "cells": [
  {
   "cell_type": "markdown",
   "metadata": {},
   "source": [
    "# file sizes, number of hits and cdf"
   ]
  },
  {
   "cell_type": "code",
   "execution_count": null,
   "metadata": {},
   "outputs": [],
   "source": [
    "import glob\n",
    "filenames = glob.glob('/INET/state-trolls/work/state-trolls/reddit_dataset/comments/scores/RC_2016-10.bz2.decompressed/*txt')"
   ]
  },
  {
   "cell_type": "code",
   "execution_count": null,
   "metadata": {},
   "outputs": [],
   "source": [
    "sims = []"
   ]
  },
  {
   "cell_type": "code",
   "execution_count": null,
   "metadata": {},
   "outputs": [],
   "source": [
    "for name in filenames:\n",
    "    try:\n",
    "        with open(name , 'r') as content_file:\n",
    "            content = content_file.read()\n",
    "            json_data = content.replace('][',',')\n",
    "            j_object = json.loads(json_data)\n",
    "            j_df = pd.DataFrame(j_object)\n",
    "            counts = collections.Counter(j_df['tweet_id'].tolist())\n",
    "            counts_sorted = counts.most_common()\n",
    "            c_df = pd.DataFrame(counts_sorted, columns=['tweet_id', 'frequency'])\n",
    "            final_df = final_df.append(c_df, ignore_index = True) \n",
    "            final_df['t_f'] = final_df.groupby(['tweet_id'])['frequency'].transform('sum')\n",
    "            final_df = final_df.drop_duplicates(subset=['tweet_id'])\n",
    "            del final_df['frequency']\n",
    "            final_df.columns = ['tweet_id', 'frequency']\n",
    "#             print(final_df.head())\n",
    "#             print(len(final_df))\n",
    "            i = i + 1\n",
    "            print(i)\n",
    "    except:\n",
    "        no_hits_files = no_hits_files + 1"
   ]
  },
  {
   "cell_type": "code",
   "execution_count": null,
   "metadata": {},
   "outputs": [],
   "source": [
    "print(no_hits_files)\n",
    "print(hits_files)\n",
    "print(no_of_hits)"
   ]
  },
  {
   "cell_type": "code",
   "execution_count": null,
   "metadata": {},
   "outputs": [],
   "source": [
    "import json\n",
    "import pandas as pd\n",
    "with open('/INET/state-trolls/work/state-trolls/reddit_dataset/comments/scores/RC_2016-10.bz2.decompressed/7076_scores_stsb.txt' , 'r') as content_file:\n",
    "        size = content_file.tell()\n",
    "        content = content_file.read()\n",
    "        json_data = content.replace('][',',')\n",
    "        j_object = json.loads(json_data)\n",
    "        j_df = pd.DataFrame(j_object)\n",
    "        print(j_df.shape[0])"
   ]
  },
  {
   "cell_type": "markdown",
   "metadata": {},
   "source": [
    "# CDF plot and theme distribution"
   ]
  },
  {
   "cell_type": "code",
   "execution_count": null,
   "metadata": {},
   "outputs": [],
   "source": [
    "import numpy as np\n",
    "import matplotlib.pyplot as plt\n",
    "import collections\n",
    "counts, bin_edges = np.histogram (sims, bins=20, normed=False)\n",
    "cdf = np.cumsum (counts)\n",
    "plt.plot(bin_edges[1:], cdf/cdf[-1])\n",
    "plt.xlabel('cosine similarity')\n",
    "plt.ylabel('3M hits')"
   ]
  },
  {
   "cell_type": "code",
   "execution_count": null,
   "metadata": {},
   "outputs": [],
   "source": [
    "data = pd.read_csv('./clustering/annotated/combined_annotated_updated1.csv')"
   ]
  },
  {
   "cell_type": "code",
   "execution_count": null,
   "metadata": {},
   "outputs": [],
   "source": [
    "relevant_data = data[data['relevance']==1]"
   ]
  },
  {
   "cell_type": "code",
   "execution_count": null,
   "metadata": {},
   "outputs": [],
   "source": [
    "relevant_data.head()"
   ]
  },
  {
   "cell_type": "code",
   "execution_count": null,
   "metadata": {},
   "outputs": [],
   "source": [
    "count = 0\n",
    "counts = []\n",
    "labels = ['Muslims', 'Racism', 'Elections','Michel Obama', 'Congress','Islam', 'Zimbabwe', 'Cop Violence',\n",
    "         'White House', 'UK', 'Republicans', ' Barack Obama', 'Hilary Clinton', 'Trump', 'Protests/Rallies',\n",
    "         'Biden', 'Democratics', 'US Gov', 'Gen Politics', 'LGBTQ', 'ISIS', 'China', 'Kenya', 'Russia', 'Korea',\n",
    "         'Syria', 'Abortion', 'Miscellaneous','Sanders/Cruz','Israel','Liberals', 'Iran', 'Germany', 'Greek', \n",
    "          'Flint water crisis','Turkey','Pakistan','Bill Cosby','Gun law', 'James Comey','Climate change',\n",
    "          'India','Columbia','Ferguson','No cyber censorship movement',\n",
    "          'Brazil','Saudi -Yemen','Belgium','Panama','Religion','Europe','Mexico','Baltimore',\n",
    "          'Paris climate deal','Afghan  - Taliban','Australia','Cuba','Italy']\n",
    "for i in range(1,59):\n",
    "    shape = relevant_data[relevant_data['theme'] == i].shape\n",
    "    counts.append(shape[0])\n",
    "    count =  count + shape[0]\n",
    "print(count)"
   ]
  },
  {
   "cell_type": "code",
   "execution_count": null,
   "metadata": {},
   "outputs": [],
   "source": [
    "import matplotlib.pyplot as plt\n",
    "fig = plt.figure()\n",
    "plt.style.use('ggplot')\n",
    "df = pd.DataFrame()\n",
    "df['counts'] = counts\n",
    "df['labels'] = labels\n",
    "df = df.sort_values('counts', ascending=False)\n",
    "df.set_index('labels', inplace=True)\n",
    "fig, ax = plt.subplots(figsize=(7,10))\n",
    "df.plot(kind='barh', legend = False, ax=ax)\n",
    "ax.set_xlabel('Number of Tweets')\n",
    "ax.set_ylabel('Themes')"
   ]
  },
  {
   "cell_type": "markdown",
   "metadata": {},
   "source": [
    "# Temporal Analysis"
   ]
  },
  {
   "cell_type": "code",
   "execution_count": null,
   "metadata": {},
   "outputs": [],
   "source": [
    "import numpy as np \n",
    "import pandas as pd\n",
    "import csv\n",
    "import os\n",
    "import re\n",
    "import matplotlib.pyplot as plt\n",
    "from tqdm import tqdm\n",
    "import time\n",
    "import random\n",
    "import emoji\n",
    "import string\n",
    "import json\n",
    "import nltk\n",
    "\n",
    "from sklearn.metrics import pairwise_distances\n",
    "from scipy.spatial.distance import cosine\n",
    "\n",
    "# list of all the dataset files\n",
    "dataset_paths = [\"../../datasets/russia_052020_tweets_csv_hashed_2.csv\", \n",
    "         \"../../datasets/russian_linked_tweets_csv_hashed.csv\", \n",
    "         \"../../datasets/ira_tweets_csv_hashed.csv\", \n",
    "         \"../../datasets/russia_201906_1_tweets_csv_hashed.csv\"]\n",
    "\n",
    "# path to store the entire combined dataset\n",
    "combined_dataset_path = \"../datasets/russian_trolls.csv\"\n",
    "\n",
    "# returns a pandas dataframe consisting of entries from all the dataset files\n",
    "def get_combined_dataset(paths):\n",
    "    data = pd.concat((pd.read_csv(file) for file in tqdm(paths)))\n",
    "    return data\n",
    "\n",
    "data = get_combined_dataset(dataset_paths)\n",
    "print(\"Number of tweets in the dataset: \", data.shape[0])\n"
   ]
  },
  {
   "cell_type": "code",
   "execution_count": null,
   "metadata": {},
   "outputs": [],
   "source": [
    "data.columns"
   ]
  },
  {
   "cell_type": "markdown",
   "metadata": {},
   "source": [
    "# Get samples for annotation"
   ]
  },
  {
   "cell_type": "code",
   "execution_count": null,
   "metadata": {},
   "outputs": [],
   "source": [
    "final_annotations = pd.DataFrame()"
   ]
  },
  {
   "cell_type": "code",
   "execution_count": null,
   "metadata": {},
   "outputs": [],
   "source": [
    "adf = pd.read_csv('./annotations/2016.11.annotation_data_point_95.csv')"
   ]
  },
  {
   "cell_type": "code",
   "execution_count": null,
   "metadata": {},
   "outputs": [],
   "source": [
    "adf.shape"
   ]
  },
  {
   "cell_type": "code",
   "execution_count": null,
   "metadata": {},
   "outputs": [],
   "source": [
    "res = adf[~adf[['tweet', 'matching_sentence']].apply(frozenset, axis=1).duplicated()]\n"
   ]
  },
  {
   "cell_type": "code",
   "execution_count": null,
   "metadata": {},
   "outputs": [],
   "source": [
    "res = res[~res[['tweet']].apply(frozenset, axis=1).duplicated()]"
   ]
  },
  {
   "cell_type": "code",
   "execution_count": null,
   "metadata": {},
   "outputs": [],
   "source": [
    "res = res[~res[['matching_sentence']].apply(frozenset, axis=1).duplicated()]"
   ]
  },
  {
   "cell_type": "code",
   "execution_count": null,
   "metadata": {},
   "outputs": [],
   "source": [
    "res.shape"
   ]
  },
  {
   "cell_type": "code",
   "execution_count": null,
   "metadata": {},
   "outputs": [],
   "source": [
    "final_annotations = final_annotations.append(res.sample(n = 10))"
   ]
  },
  {
   "cell_type": "code",
   "execution_count": null,
   "metadata": {},
   "outputs": [],
   "source": [
    "final_annotations.shape"
   ]
  },
  {
   "cell_type": "code",
   "execution_count": null,
   "metadata": {},
   "outputs": [],
   "source": [
    "del final_annotations['Unnamed: 0']"
   ]
  },
  {
   "cell_type": "code",
   "execution_count": null,
   "metadata": {},
   "outputs": [],
   "source": [
    "fdf = final_annotations.sample(n=170)"
   ]
  },
  {
   "cell_type": "code",
   "execution_count": null,
   "metadata": {},
   "outputs": [],
   "source": [
    "fdf['annotation_based_on_sentence'] = 2\n",
    "fdf['annotation_based_on_post'] = 2"
   ]
  },
  {
   "cell_type": "code",
   "execution_count": null,
   "metadata": {},
   "outputs": [],
   "source": [
    "fdf.shape"
   ]
  },
  {
   "cell_type": "code",
   "execution_count": null,
   "metadata": {},
   "outputs": [],
   "source": [
    "pdf = pd.read_csv('./annotation_samples_saved.csv')"
   ]
  },
  {
   "cell_type": "code",
   "execution_count": null,
   "metadata": {
    "scrolled": true
   },
   "outputs": [],
   "source": [
    "fdf = pdf.append(fdf, ignore_index=True)"
   ]
  },
  {
   "cell_type": "code",
   "execution_count": null,
   "metadata": {},
   "outputs": [],
   "source": [
    "pdf.shape"
   ]
  },
  {
   "cell_type": "code",
   "execution_count": null,
   "metadata": {},
   "outputs": [],
   "source": [
    "fdf.to_csv('./annotations/annotation_samples.csv')"
   ]
  },
  {
   "cell_type": "markdown",
   "metadata": {},
   "source": [
    "# Threshold matrix"
   ]
  },
  {
   "cell_type": "code",
   "execution_count": null,
   "metadata": {},
   "outputs": [],
   "source": [
    "odf = fdf"
   ]
  },
  {
   "cell_type": "code",
   "execution_count": null,
   "metadata": {},
   "outputs": [],
   "source": [
    "odf.head()"
   ]
  },
  {
   "cell_type": "code",
   "execution_count": null,
   "metadata": {},
   "outputs": [],
   "source": [
    "df = pd.read_csv('./clustering/annotated/annotation_samples_aishwarya.csv')"
   ]
  },
  {
   "cell_type": "code",
   "execution_count": null,
   "metadata": {},
   "outputs": [],
   "source": [
    "odf['annotation_based_on_sentence'] = df['annotation_based_on_sentence'].values"
   ]
  },
  {
   "cell_type": "code",
   "execution_count": null,
   "metadata": {},
   "outputs": [],
   "source": [
    "odf['annotation_based_on_post'] = df['annotation_based_on_post'].values"
   ]
  },
  {
   "cell_type": "code",
   "execution_count": null,
   "metadata": {},
   "outputs": [],
   "source": [
    "print(odf[(odf['sim'] > 0.65) & (odf['sim'] <= 0.7)].shape)\n",
    "print(odf[(odf['sim'] > 0.7) & (odf['sim'] <= 0.75)].shape)\n",
    "print(odf[(odf['sim'] > 0.75) & (odf['sim'] <= 0.8)].shape)\n",
    "print(odf[(odf['sim'] > 0.8) & (odf['sim'] <= 0.85)].shape)\n",
    "print(odf[(odf['sim'] > 0.85) & (odf['sim'] <= 0.9)].shape)\n",
    "print(odf[(odf['sim'] > 0.9) & (odf['sim'] <= 0.95)].shape)\n",
    "print(odf[(odf['sim'] > 0.95) & (odf['sim'] <= 1.0)].shape)"
   ]
  },
  {
   "cell_type": "code",
   "execution_count": null,
   "metadata": {},
   "outputs": [],
   "source": [
    "odf.to_csv('./annotation_samples_saved.csv')"
   ]
  },
  {
   "cell_type": "code",
   "execution_count": null,
   "metadata": {},
   "outputs": [],
   "source": [
    "odf = pd.read_csv('./annotation_samples_aishwarya.csv')"
   ]
  },
  {
   "cell_type": "code",
   "execution_count": null,
   "metadata": {},
   "outputs": [],
   "source": [
    "sdf = odf[odf['annotation_based_on_post'].notnull()]"
   ]
  },
  {
   "cell_type": "code",
   "execution_count": null,
   "metadata": {},
   "outputs": [],
   "source": [
    "import numpy as np\n",
    "matrix_0 = []\n",
    "matrix_1 = []\n",
    "from sklearn.metrics import classification_report\n",
    "target_names = ['irrelevant', 'relevant']\n",
    "for threshold in np.arange(0.65, 1.0, 0.05):\n",
    "    sdf['true-values'] = np.where(sdf['sim'] > threshold, 1, 0)\n",
    "    c = classification_report(sdf['true-values'],\n",
    "                              sdf['annotation_based_on_post'], target_names=target_names, output_dict = True)\n",
    "    matrix_0.append({'threshold': threshold, 'class': '0',\n",
    "                   'precision' : (c['irrelevant'])['precision'],\n",
    "                  'recall': (c['irrelevant'])['recall'],\n",
    "                  'f1-score': (c['irrelevant'])['f1-score'],\n",
    "                  'support': (c['irrelevant'])['support'],\n",
    "                  'accuracy': c['accuracy']})\n",
    "    matrix_1.append({'threshold': threshold, 'class': '1',\n",
    "                   'precision' : (c['relevant'])['precision'],\n",
    "                  'recall': (c['relevant'])['recall'],\n",
    "                  'f1-score': (c['relevant'])['f1-score'],\n",
    "                  'support': (c['relevant'])['support'],\n",
    "                  'accuracy': c['accuracy']})\n",
    "#     print(c)"
   ]
  },
  {
   "cell_type": "code",
   "execution_count": null,
   "metadata": {},
   "outputs": [],
   "source": [
    "k = pd.DataFrame(matrix_1)\n",
    "del k['support']\n",
    "k"
   ]
  },
  {
   "cell_type": "code",
   "execution_count": null,
   "metadata": {},
   "outputs": [],
   "source": [
    "import numpy as np\n",
    "import matplotlib.pyplot as plt\n",
    "import collections\n",
    "counts, bin_edges = np.histogram (sims, bins=500, normed=False)\n",
    "cdf = np.cumsum (counts)\n",
    "plt.plot(bin_edges[1:], cdf/cdf[-1])\n",
    "plt.xlabel('ratio of post length to max tweet length')\n",
    "plt.ylabel('randomized hits')"
   ]
  },
  {
   "cell_type": "code",
   "execution_count": null,
   "metadata": {},
   "outputs": [],
   "source": [
    "def plot_cdf(list_counts, xlabel, path, leg=False, islogx=True, xlimit=False):\n",
    "    t_col = \"#235dba\"\n",
    "    g_col = \"#005916\"\n",
    "    c_col = \"#a50808\"\n",
    "    r_col = \"#ff9900\"\n",
    "    black = \"#000000\"\n",
    "    pink = \"#f442f1\"\n",
    "    t_ls = '-'\n",
    "    r_ls = '--'\n",
    "    c_ls = ':'\n",
    "    g_ls = '-.'\n",
    "\n",
    "    markers = [\".\", \"o\", \"v\", \"^\", \"<\", \">\", \"1\", \"2\"]\n",
    "    colors = [t_col, c_col, g_col, r_col, black, 'c', 'm', pink]\n",
    "    line_styles = [t_ls, r_ls, c_ls, g_ls,t_ls, r_ls, c_ls, g_ls, t_ls]\n",
    "    colors = colors[1:]\n",
    "    line_styles= line_styles[1:]\n",
    "    while(len(list_counts) > len(colors)):\n",
    "        colors = colors + shuffle(colors)\n",
    "        line_styles = line_styles + shuffle(line_styles)\n",
    "        \n",
    "    if xlimit:\n",
    "        l2 = []\n",
    "        for l in list_counts:\n",
    "            l2_1 = [x for x in l if x<=xlimit]\n",
    "            l2.append(l2_1)\n",
    "        list_counts = l2\n",
    "    \n",
    "    for l in list_counts:\n",
    "        l.sort()\n",
    "    fig, ax = plt.subplots(figsize=(6,4))\n",
    "    yvals = []\n",
    "    for l in list_counts:\n",
    "        yvals.append(np.arange(len(l))/float(len(l)-1))\n",
    "    for i in range(len(list_counts)):\n",
    "        ax.plot(list_counts[i], yvals[i], color=colors[i], linestyle=line_styles[i])\n",
    "    if islogx:\n",
    "        ax.set_xscale(\"log\")\n",
    "    plt.xlabel(xlabel)\n",
    "    plt.ylabel('CDF')\n",
    "    plt.grid()\n",
    "    for item in ([ax.xaxis.label, ax.yaxis.label] + ax.get_xticklabels() + ax.get_yticklabels()):\n",
    "        item.set_fontsize(13)\n",
    "    \n",
    "    if leg:\n",
    "        plt.legend(leg, loc='best', fontsize=13)\n",
    "    \n",
    "    plt.show()\n",
    "    fig.savefig(path, bbox_inches='tight')\n"
   ]
  },
  {
   "cell_type": "code",
   "execution_count": null,
   "metadata": {},
   "outputs": [],
   "source": [
    "plot_cdf([sims], 'ratio', './cdf_of_ratio_of_tweet_lengths.pdf', islogx=False)"
   ]
  },
  {
   "cell_type": "markdown",
   "metadata": {},
   "source": [
    "# Getting samples with sim  > 0.8 along with the time difference"
   ]
  },
  {
   "cell_type": "code",
   "execution_count": null,
   "metadata": {},
   "outputs": [],
   "source": [
    "combined_annotation = pd.DataFrame()"
   ]
  },
  {
   "cell_type": "code",
   "execution_count": null,
   "metadata": {},
   "outputs": [],
   "source": [
    "combined_annotation = combined_annotation.append(pd.read_csv('./annotations/2016.10.annotation_data_point_8.csv'), ignore_index = True)\n",
    "combined_annotation = combined_annotation.append(pd.read_csv('./annotations/2016.10.annotation_data_point_85.csv'), ignore_index = True)\n",
    "combined_annotation = combined_annotation.append(pd.read_csv('./annotations/2016.10.annotation_data_point_9.csv'), ignore_index = True)\n",
    "combined_annotation = combined_annotation.append(pd.read_csv('./annotations/2016.10.annotation_data_point_95.csv'), ignore_index = True)\n",
    "combined_annotation = combined_annotation.append(pd.read_csv('./annotations/2016.11.annotation_data_point_8.csv'), ignore_index = True)\n",
    "combined_annotation = combined_annotation.append(pd.read_csv('./annotations/2016.11.annotation_data_point_85.csv'), ignore_index = True)\n",
    "combined_annotation = combined_annotation.append(pd.read_csv('./annotations/2016.11.annotation_data_point_9.csv'), ignore_index = True)\n",
    "combined_annotation = combined_annotation.append(pd.read_csv('./annotations/2016.11.annotation_data_point_95.csv'), ignore_index = True)\n",
    "combined_annotation = combined_annotation.append(pd.read_csv('./annotations/2017.04.annotation_data_point_8.csv'), ignore_index = True)\n",
    "combined_annotation = combined_annotation.append(pd.read_csv('./annotations/2017.04.annotation_data_point_85.csv'), ignore_index = True)\n",
    "combined_annotation = combined_annotation.append(pd.read_csv('./annotations/2017.04.annotation_data_point_9.csv'), ignore_index = True)\n",
    "combined_annotation = combined_annotation.append(pd.read_csv('./annotations/2017.04.annotation_data_point_95.csv'), ignore_index = True)"
   ]
  },
  {
   "cell_type": "markdown",
   "metadata": {},
   "source": [
    "res = combined_annotation[~combined_annotation[['tweet_text', 'matching_sentence']].apply(frozenset, axis=1).duplicated()]\n",
    "res = res[~res[['tweet_text']].apply(frozenset, axis=1).duplicated()]\n",
    "res = res[~res[['matching_sentence']].apply(frozenset, axis=1).duplicated()]"
   ]
  },
  {
   "cell_type": "code",
   "execution_count": null,
   "metadata": {},
   "outputs": [],
   "source": [
    "res = combined_annotation"
   ]
  },
  {
   "cell_type": "code",
   "execution_count": null,
   "metadata": {},
   "outputs": [],
   "source": [
    "fdata = data[data['tweetid'].isin(res['tweet_id'].to_list())]"
   ]
  },
  {
   "cell_type": "code",
   "execution_count": null,
   "metadata": {},
   "outputs": [],
   "source": [
    "times = []\n",
    "for idx, row in res.iterrows():\n",
    "    element = fdata[fdata['tweetid'] == row['tweet_id']]\n",
    "    time = element['tweet_time'].to_string()\n",
    "    time = time.split()\n",
    "#     print(time[1]+' '+time[2])\n",
    "    times.append(time[1]+' '+time[2])"
   ]
  },
  {
   "cell_type": "code",
   "execution_count": null,
   "metadata": {},
   "outputs": [],
   "source": [
    "# del res['tweet_time']\n",
    "res['tweet_time'] = times"
   ]
  },
  {
   "cell_type": "code",
   "execution_count": null,
   "metadata": {},
   "outputs": [],
   "source": [
    "rel_posts = pd.DataFrame()"
   ]
  },
  {
   "cell_type": "code",
   "execution_count": null,
   "metadata": {},
   "outputs": [],
   "source": [
    "posts = pd.read_csv('/INET/state-trolls/work/state-trolls/reddit_dataset/comments/posts/posts-2016-10.csv')\n",
    "fposts = posts[posts['id'].isin(res['post_id'].to_list())]\n",
    "rel_posts = rel_posts.append(fposts, ignore_index=True)\n",
    "posts = pd.read_csv('/INET/state-trolls/work/state-trolls/reddit_dataset/comments/posts/posts-2016-11.csv')\n",
    "fposts = posts[posts['id'].isin(res['post_id'].to_list())]\n",
    "rel_posts = rel_posts.append(fposts, ignore_index=True)\n",
    "posts = pd.read_csv('/INET/state-trolls/work/state-trolls/reddit_dataset/comments/posts/posts-2017-04.csv')\n",
    "fposts = posts[posts['id'].isin(res['post_id'].to_list())]\n",
    "rel_posts = rel_posts.append(fposts, ignore_index=True)\n",
    "                             "
   ]
  },
  {
   "cell_type": "code",
   "execution_count": null,
   "metadata": {},
   "outputs": [],
   "source": [
    "import datetime\n",
    "times = []\n",
    "for idx, row in res.iterrows():\n",
    "    element = rel_posts[rel_posts['id'] == row['post_id']]\n",
    "    time = element['created_utc'].astype('int64')\n",
    "    time = str(time).split()\n",
    "#     print(time)\n",
    "    try:\n",
    "        times.append(datetime.datetime.fromtimestamp(int(time[1])))\n",
    "    except ValueError:\n",
    "        print(time[0])\n",
    "        times.append(time[0])"
   ]
  },
  {
   "cell_type": "code",
   "execution_count": null,
   "metadata": {},
   "outputs": [],
   "source": [
    "res = res[res['post_time'] !=  'Series([],']"
   ]
  },
  {
   "cell_type": "code",
   "execution_count": null,
   "metadata": {},
   "outputs": [],
   "source": [
    "del res['post_time']\n",
    "res['post_time'] = times"
   ]
  },
  {
   "cell_type": "code",
   "execution_count": null,
   "metadata": {},
   "outputs": [],
   "source": [
    "t = pd.to_datetime(res.tweet_time, infer_datetime_format=True)"
   ]
  },
  {
   "cell_type": "code",
   "execution_count": null,
   "metadata": {},
   "outputs": [],
   "source": [
    "del res['tweet_time']\n",
    "res['tweet_time'] = t"
   ]
  },
  {
   "cell_type": "code",
   "execution_count": null,
   "metadata": {},
   "outputs": [],
   "source": [
    "t = pd.to_datetime(res.post_time, infer_datetime_format=True)\n",
    "del res['post_time']\n",
    "res['post_time'] = t"
   ]
  },
  {
   "cell_type": "code",
   "execution_count": null,
   "metadata": {},
   "outputs": [],
   "source": [
    "td = (res.post_time - res.tweet_time).astype('timedelta64[h]')"
   ]
  },
  {
   "cell_type": "code",
   "execution_count": null,
   "metadata": {},
   "outputs": [],
   "source": [
    "res['time_difference'] = td"
   ]
  },
  {
   "cell_type": "code",
   "execution_count": null,
   "metadata": {},
   "outputs": [],
   "source": [
    "res.to_csv('./annotations/combinedpoint8.csv')"
   ]
  },
  {
   "cell_type": "markdown",
   "metadata": {},
   "source": [
    "# CDF of time difference between post and tweets of all the hits so far"
   ]
  },
  {
   "cell_type": "code",
   "execution_count": null,
   "metadata": {},
   "outputs": [],
   "source": [
    "combined_times =pd.DataFrame()"
   ]
  },
  {
   "cell_type": "code",
   "execution_count": null,
   "metadata": {},
   "outputs": [],
   "source": [
    "twitter_data = pd.read_csv('./relevant_tweets.csv')\n",
    "twitter_data.shape"
   ]
  },
  {
   "cell_type": "code",
   "execution_count": null,
   "metadata": {},
   "outputs": [],
   "source": [
    "reddit_data = pd.read_csv('/INET/state-trolls/work/state-trolls/reddit_dataset/comments/posts/posts-2017-04.csv')\n",
    "reddit_data.shape"
   ]
  },
  {
   "cell_type": "code",
   "execution_count": null,
   "metadata": {},
   "outputs": [],
   "source": [
    "hits = pd.read_csv('./results/combined_hits_2017.04.csv')"
   ]
  },
  {
   "cell_type": "code",
   "execution_count": null,
   "metadata": {},
   "outputs": [],
   "source": [
    "hits = hits.rename(columns={'tweet_time': 'post_time'})\n",
    "del hits['Unnamed: 0']"
   ]
  },
  {
   "cell_type": "code",
   "execution_count": null,
   "metadata": {},
   "outputs": [],
   "source": [
    "hits.dtypes"
   ]
  },
  {
   "cell_type": "code",
   "execution_count": null,
   "metadata": {},
   "outputs": [],
   "source": [
    "hits = hits[hits['post_time'] != 'Series([],']"
   ]
  },
  {
   "cell_type": "code",
   "execution_count": null,
   "metadata": {},
   "outputs": [],
   "source": [
    "hits.shape"
   ]
  },
  {
   "cell_type": "code",
   "execution_count": null,
   "metadata": {},
   "outputs": [],
   "source": [
    "fdata = data[data['tweetid'].isin(hits['tweet_id'].unique())]"
   ]
  },
  {
   "cell_type": "code",
   "execution_count": null,
   "metadata": {},
   "outputs": [],
   "source": [
    "fdata.shape"
   ]
  },
  {
   "cell_type": "code",
   "execution_count": null,
   "metadata": {},
   "outputs": [],
   "source": [
    "times = []\n",
    "authors = []\n",
    "for idx, row in hits.iterrows():\n",
    "    element = fdata[fdata['tweetid'] == row['tweet_id']]\n",
    "    time = element['tweet_time'].to_string()\n",
    "    time = time.split()\n",
    "#     print(time[1]+' '+time[2])\n",
    "    times.append(time[1]+' '+time[2])\n",
    "#     authors.append(row[''])"
   ]
  },
  {
   "cell_type": "code",
   "execution_count": null,
   "metadata": {},
   "outputs": [],
   "source": [
    "len(times)"
   ]
  },
  {
   "cell_type": "code",
   "execution_count": null,
   "metadata": {},
   "outputs": [],
   "source": [
    "hits['tweet_time'] = times"
   ]
  },
  {
   "cell_type": "code",
   "execution_count": null,
   "metadata": {},
   "outputs": [],
   "source": [
    "hits[hits['tweet_time'] == 'Series([],'].shape"
   ]
  },
  {
   "cell_type": "code",
   "execution_count": null,
   "metadata": {},
   "outputs": [],
   "source": [
    "t = pd.to_datetime(hits.tweet_time, infer_datetime_format=True)\n",
    "del hits['tweet_time']\n",
    "hits['tweet_time'] = t\n"
   ]
  },
  {
   "cell_type": "code",
   "execution_count": null,
   "metadata": {},
   "outputs": [],
   "source": [
    "t = pd.to_datetime(hits.post_time, infer_datetime_format=True)\n",
    "del hits['post_time']\n",
    "hits['post_time'] = t"
   ]
  },
  {
   "cell_type": "code",
   "execution_count": null,
   "metadata": {},
   "outputs": [],
   "source": [
    "td = (hits.post_time - hits.tweet_time).astype('timedelta64[h]')"
   ]
  },
  {
   "cell_type": "code",
   "execution_count": null,
   "metadata": {},
   "outputs": [],
   "source": [
    "hits['td'] = td"
   ]
  },
  {
   "cell_type": "code",
   "execution_count": null,
   "metadata": {},
   "outputs": [],
   "source": [
    "combined_times = combined_times.append(hits)"
   ]
  },
  {
   "cell_type": "code",
   "execution_count": null,
   "metadata": {},
   "outputs": [],
   "source": [
    "td = (combined_times.post_time - combined_times.tweet_time).astype('timedelta64[h]')\n",
    "del combined_times['td']\n",
    "combined_times['td'] = td"
   ]
  },
  {
   "cell_type": "code",
   "execution_count": null,
   "metadata": {},
   "outputs": [],
   "source": [
    "combined_times[combined_times['td'] == 0].shape"
   ]
  },
  {
   "cell_type": "code",
   "execution_count": null,
   "metadata": {
    "scrolled": true
   },
   "outputs": [],
   "source": [
    "combined_times.head()"
   ]
  },
  {
   "cell_type": "code",
   "execution_count": null,
   "metadata": {},
   "outputs": [],
   "source": [
    "plot_cdf([combined_times['td'].to_list()], 'time difference in seconds', './cdf_of_time_difference_hits_seconds.pdf', islogx=True)"
   ]
  },
  {
   "cell_type": "markdown",
   "metadata": {},
   "source": [
    "# Time difference analysis for users"
   ]
  },
  {
   "cell_type": "code",
   "execution_count": null,
   "metadata": {},
   "outputs": [],
   "source": [
    "author_td_df = pd.DataFrame()\n",
    "authors_tds = []"
   ]
  },
  {
   "cell_type": "code",
   "execution_count": null,
   "metadata": {},
   "outputs": [],
   "source": [
    "authors = hits['author'].unique()"
   ]
  },
  {
   "cell_type": "code",
   "execution_count": null,
   "metadata": {},
   "outputs": [],
   "source": [
    "hits.shape"
   ]
  },
  {
   "cell_type": "code",
   "execution_count": null,
   "metadata": {},
   "outputs": [],
   "source": [
    "len(authors)"
   ]
  },
  {
   "cell_type": "code",
   "execution_count": null,
   "metadata": {},
   "outputs": [],
   "source": [
    "import numpy as np\n",
    "for a in authors:\n",
    "    tds = combined_times[hits['author']==a]['td'].to_list()\n",
    "    avg_td = np.mean(tds)\n",
    "    authors_tds.append({'author': a, 'atd': avg_td})"
   ]
  },
  {
   "cell_type": "code",
   "execution_count": null,
   "metadata": {},
   "outputs": [],
   "source": [
    "len(authors_tds)"
   ]
  },
  {
   "cell_type": "code",
   "execution_count": null,
   "metadata": {},
   "outputs": [],
   "source": [
    "author_td_df = pd.DataFrame(authors_tds)"
   ]
  },
  {
   "cell_type": "code",
   "execution_count": null,
   "metadata": {},
   "outputs": [],
   "source": [
    "plot_cdf([author_td_df['atd'].to_list()], 'time difference in hours', './cdf_of_avg_time_difference_per_author_log.pdf', islogx=False)"
   ]
  },
  {
   "cell_type": "markdown",
   "metadata": {},
   "source": [
    "# plot cdf of posts per author with time difference 1w, 2w , 1m"
   ]
  },
  {
   "cell_type": "code",
   "execution_count": 1116,
   "metadata": {},
   "outputs": [],
   "source": [
    "combined_hits = pd.DataFrame()"
   ]
  },
  {
   "cell_type": "code",
   "execution_count": 1122,
   "metadata": {},
   "outputs": [],
   "source": [
    "hits = pd.read_csv('./results/combined_hits_2017.04.csv')"
   ]
  },
  {
   "cell_type": "code",
   "execution_count": 1123,
   "metadata": {},
   "outputs": [],
   "source": [
    "combined_hits = combined_hits.append(hits, ignore_index=True)"
   ]
  },
  {
   "cell_type": "code",
   "execution_count": 1124,
   "metadata": {},
   "outputs": [],
   "source": [
    "hits = combined_hits"
   ]
  },
  {
   "cell_type": "code",
   "execution_count": 1125,
   "metadata": {},
   "outputs": [],
   "source": [
    "hits = hits.rename(columns={'tweet_time': 'post_time'})\n",
    "del hits['Unnamed: 0']"
   ]
  },
  {
   "cell_type": "code",
   "execution_count": 1126,
   "metadata": {},
   "outputs": [],
   "source": [
    "authors = []\n",
    "for a in hits['author']:\n",
    "    s = a.split()\n",
    "    authors.append(s[1])"
   ]
  },
  {
   "cell_type": "code",
   "execution_count": 1127,
   "metadata": {},
   "outputs": [],
   "source": [
    "del hits['author']\n",
    "hits['author'] = authors"
   ]
  },
  {
   "cell_type": "code",
   "execution_count": 1133,
   "metadata": {},
   "outputs": [],
   "source": [
    "times = []\n",
    "for idx, row in hits.iterrows():\n",
    "    element = fdata[fdata['tweetid'] == row['tweet_id']]\n",
    "    time = element['tweet_time'].to_string()\n",
    "    time = time.split()\n",
    "    try:\n",
    "        times.append(time[1]+' '+time[2])\n",
    "    except IndexError:\n",
    "        times.append(time[0])"
   ]
  },
  {
   "cell_type": "code",
   "execution_count": 1134,
   "metadata": {},
   "outputs": [],
   "source": [
    "hits['tweet_time'] = times"
   ]
  },
  {
   "cell_type": "code",
   "execution_count": 1135,
   "metadata": {},
   "outputs": [],
   "source": [
    "hits = hits[hits['tweet_time'] != 'Series([],']"
   ]
  },
  {
   "cell_type": "code",
   "execution_count": 1136,
   "metadata": {},
   "outputs": [],
   "source": [
    "hits = hits[hits['post_time'] != 'Series([],']"
   ]
  },
  {
   "cell_type": "code",
   "execution_count": 1137,
   "metadata": {},
   "outputs": [],
   "source": [
    "t = pd.to_datetime(hits.tweet_time, infer_datetime_format=True)\n",
    "del hits['tweet_time']\n",
    "hits['tweet_time'] = t\n",
    "t = pd.to_datetime(hits.post_time, infer_datetime_format=True)\n",
    "del hits['post_time']\n",
    "hits['post_time'] = t"
   ]
  },
  {
   "cell_type": "code",
   "execution_count": 1138,
   "metadata": {},
   "outputs": [],
   "source": [
    "td = (hits.post_time - hits.tweet_time).astype('timedelta64[h]')\n",
    "hits['td'] = td"
   ]
  },
  {
   "cell_type": "code",
   "execution_count": 1139,
   "metadata": {},
   "outputs": [
    {
     "data": {
      "text/plain": [
       "(837036, 8)"
      ]
     },
     "execution_count": 1139,
     "metadata": {},
     "output_type": "execute_result"
    }
   ],
   "source": [
    "hits.shape"
   ]
  },
  {
   "cell_type": "code",
   "execution_count": 1236,
   "metadata": {},
   "outputs": [
    {
     "data": {
      "text/html": [
       "<div>\n",
       "<style scoped>\n",
       "    .dataframe tbody tr th:only-of-type {\n",
       "        vertical-align: middle;\n",
       "    }\n",
       "\n",
       "    .dataframe tbody tr th {\n",
       "        vertical-align: top;\n",
       "    }\n",
       "\n",
       "    .dataframe thead th {\n",
       "        text-align: right;\n",
       "    }\n",
       "</style>\n",
       "<table border=\"1\" class=\"dataframe\">\n",
       "  <thead>\n",
       "    <tr style=\"text-align: right;\">\n",
       "      <th></th>\n",
       "      <th>tweet_id</th>\n",
       "      <th>post_id</th>\n",
       "      <th>cosine_similarity</th>\n",
       "      <th>sent_id</th>\n",
       "      <th>author</th>\n",
       "      <th>tweet_time</th>\n",
       "      <th>post_time</th>\n",
       "      <th>td</th>\n",
       "    </tr>\n",
       "  </thead>\n",
       "  <tbody>\n",
       "    <tr>\n",
       "      <th>0</th>\n",
       "      <td>721691620807028737</td>\n",
       "      <td>d89rf2m</td>\n",
       "      <td>0.869012</td>\n",
       "      <td>4</td>\n",
       "      <td>StonerMeditation</td>\n",
       "      <td>2016-04-17 13:27:00</td>\n",
       "      <td>2016-10-01 19:30:42</td>\n",
       "      <td>4014.0</td>\n",
       "    </tr>\n",
       "    <tr>\n",
       "      <th>1</th>\n",
       "      <td>701153799784816643</td>\n",
       "      <td>d89rf2m</td>\n",
       "      <td>0.849456</td>\n",
       "      <td>4</td>\n",
       "      <td>StonerMeditation</td>\n",
       "      <td>2016-02-20 21:17:00</td>\n",
       "      <td>2016-10-01 19:30:42</td>\n",
       "      <td>5374.0</td>\n",
       "    </tr>\n",
       "    <tr>\n",
       "      <th>2</th>\n",
       "      <td>774970939922456576</td>\n",
       "      <td>d89rfd5</td>\n",
       "      <td>0.829398</td>\n",
       "      <td>0</td>\n",
       "      <td>tha-snazzle</td>\n",
       "      <td>2016-09-11 14:00:00</td>\n",
       "      <td>2016-10-01 19:30:55</td>\n",
       "      <td>485.0</td>\n",
       "    </tr>\n",
       "    <tr>\n",
       "      <th>3</th>\n",
       "      <td>775528717846126592</td>\n",
       "      <td>d89rfyg</td>\n",
       "      <td>0.882638</td>\n",
       "      <td>1</td>\n",
       "      <td>Dark_Lotus</td>\n",
       "      <td>2016-09-13 02:57:00</td>\n",
       "      <td>2016-10-01 19:31:19</td>\n",
       "      <td>448.0</td>\n",
       "    </tr>\n",
       "    <tr>\n",
       "      <th>4</th>\n",
       "      <td>768890174835077121</td>\n",
       "      <td>d89rfyg</td>\n",
       "      <td>0.849039</td>\n",
       "      <td>1</td>\n",
       "      <td>Dark_Lotus</td>\n",
       "      <td>2016-08-25 19:17:00</td>\n",
       "      <td>2016-10-01 19:31:19</td>\n",
       "      <td>888.0</td>\n",
       "    </tr>\n",
       "  </tbody>\n",
       "</table>\n",
       "</div>"
      ],
      "text/plain": [
       "             tweet_id  post_id  cosine_similarity  sent_id            author          tweet_time           post_time      td\n",
       "0  721691620807028737  d89rf2m  0.869012           4        StonerMeditation 2016-04-17 13:27:00 2016-10-01 19:30:42  4014.0\n",
       "1  701153799784816643  d89rf2m  0.849456           4        StonerMeditation 2016-02-20 21:17:00 2016-10-01 19:30:42  5374.0\n",
       "2  774970939922456576  d89rfd5  0.829398           0        tha-snazzle      2016-09-11 14:00:00 2016-10-01 19:30:55  485.0 \n",
       "3  775528717846126592  d89rfyg  0.882638           1        Dark_Lotus       2016-09-13 02:57:00 2016-10-01 19:31:19  448.0 \n",
       "4  768890174835077121  d89rfyg  0.849039           1        Dark_Lotus       2016-08-25 19:17:00 2016-10-01 19:31:19  888.0 "
      ]
     },
     "execution_count": 1236,
     "metadata": {},
     "output_type": "execute_result"
    }
   ],
   "source": [
    "hits.head()"
   ]
  },
  {
   "cell_type": "code",
   "execution_count": 1237,
   "metadata": {},
   "outputs": [
    {
     "data": {
      "text/plain": [
       "(36883, 8)"
      ]
     },
     "execution_count": 1237,
     "metadata": {},
     "output_type": "execute_result"
    }
   ],
   "source": [
    "one_week_hits = hits[(hits['td'] >= -168) & (hits['td'] <= 168)]\n",
    "one_week_hits.shape"
   ]
  },
  {
   "cell_type": "code",
   "execution_count": 1161,
   "metadata": {},
   "outputs": [],
   "source": [
    "result = one_week_hits.groupby('author').nunique()"
   ]
  },
  {
   "cell_type": "code",
   "execution_count": 1162,
   "metadata": {},
   "outputs": [],
   "source": [
    "onewresults = result['post_id'].to_list()"
   ]
  },
  {
   "cell_type": "code",
   "execution_count": 1163,
   "metadata": {},
   "outputs": [
    {
     "data": {
      "text/plain": [
       "(55513, 8)"
      ]
     },
     "execution_count": 1163,
     "metadata": {},
     "output_type": "execute_result"
    }
   ],
   "source": [
    "two_week_hits = hits[(hits['td'] >= -336) & (hits['td'] <= 336)]\n",
    "two_week_hits.shape"
   ]
  },
  {
   "cell_type": "code",
   "execution_count": 1164,
   "metadata": {},
   "outputs": [],
   "source": [
    "result = two_week_hits.groupby('author').nunique()"
   ]
  },
  {
   "cell_type": "code",
   "execution_count": 1165,
   "metadata": {},
   "outputs": [],
   "source": [
    "twowresults = result['post_id'].to_list()"
   ]
  },
  {
   "cell_type": "code",
   "execution_count": 1166,
   "metadata": {},
   "outputs": [
    {
     "data": {
      "text/plain": [
       "(111780, 8)"
      ]
     },
     "execution_count": 1166,
     "metadata": {},
     "output_type": "execute_result"
    }
   ],
   "source": [
    "one_month_hits = hits[(hits['td'] >= -744) & (hits['td'] <= 744)]\n",
    "one_month_hits.shape"
   ]
  },
  {
   "cell_type": "code",
   "execution_count": 1167,
   "metadata": {},
   "outputs": [],
   "source": [
    "result = one_month_hits.groupby('author').nunique()\n"
   ]
  },
  {
   "cell_type": "code",
   "execution_count": 1168,
   "metadata": {},
   "outputs": [],
   "source": [
    "onemresults = result['post_id'].to_list()"
   ]
  },
  {
   "cell_type": "code",
   "execution_count": 1169,
   "metadata": {},
   "outputs": [
    {
     "name": "stdout",
     "output_type": "stream",
     "text": [
      "18185\n",
      "25766\n",
      "52399\n"
     ]
    }
   ],
   "source": [
    "print(len(onewresults))\n",
    "print(len(twowresults))\n",
    "print(len(onemresults))"
   ]
  },
  {
   "cell_type": "code",
   "execution_count": 1107,
   "metadata": {},
   "outputs": [
    {
     "data": {
      "image/png": "[encoded data removed]",
      "text/plain": [
       "<Figure size 432x288 with 1 Axes>"
      ]
     },
     "metadata": {},
     "output_type": "display_data"
    }
   ],
   "source": [
    "plot_cdf([onewresults, twowresults, onemresults], 'hits/author',leg=['1 week time difference', '2 week time difference', '1 month time difference'], path = './cdf_of_hits_per_author_for_varying_td.pdf', islogx=True)"
   ]
  },
  {
   "cell_type": "code",
   "execution_count": 1160,
   "metadata": {},
   "outputs": [
    {
     "data": {
      "image/png": "[encoded data removed]",
      "text/plain": [
       "<Figure size 432x288 with 1 Axes>"
      ]
     },
     "metadata": {},
     "output_type": "display_data"
    }
   ],
   "source": [
    "plot_cdf([onewresults, twowresults, onemresults], 'tweets/author',leg=['1 week time difference', '2 week time difference', '1 month time difference'], path = './cdf_of_tweets_per_author_for_varying_td.pdf', islogx=True)"
   ]
  },
  {
   "cell_type": "code",
   "execution_count": 1170,
   "metadata": {},
   "outputs": [
    {
     "data": {
      "image/png": "[encoded data removed]",
      "text/plain": [
       "<Figure size 432x288 with 1 Axes>"
      ]
     },
     "metadata": {},
     "output_type": "display_data"
    }
   ],
   "source": [
    "plot_cdf([onewresults, twowresults, onemresults], 'posts/author',leg=['1 week time difference', '2 week time difference', '1 month time difference'], path = './cdf_of_posts_per_author_for_varying_td.pdf', islogx=True)"
   ]
  },
  {
   "cell_type": "code",
   "execution_count": 1197,
   "metadata": {},
   "outputs": [
    {
     "data": {
      "text/plain": [
       "(18185, 7)"
      ]
     },
     "execution_count": 1197,
     "metadata": {},
     "output_type": "execute_result"
    }
   ],
   "source": [
    "onew = one_week_hits.groupby('author').count()\n",
    "onew.shape"
   ]
  },
  {
   "cell_type": "code",
   "execution_count": 1240,
   "metadata": {},
   "outputs": [],
   "source": [
    "owr = onew[onew['td']!=1]['td'].to_list()"
   ]
  },
  {
   "cell_type": "code",
   "execution_count": 1241,
   "metadata": {},
   "outputs": [
    {
     "data": {
      "text/plain": [
       "4431"
      ]
     },
     "execution_count": 1241,
     "metadata": {},
     "output_type": "execute_result"
    }
   ],
   "source": [
    "len(owr)"
   ]
  },
  {
   "cell_type": "code",
   "execution_count": 1245,
   "metadata": {},
   "outputs": [
    {
     "name": "stdout",
     "output_type": "stream",
     "text": [
      "(23129, 8)\n"
     ]
    }
   ],
   "source": [
    "df1 = onew[onew['td']!=1].index.tolist()\n",
    "fow = one_week_hits[one_week_hits['author'].isin(df1)]\n",
    "print(fow.shape)\n",
    "owr = fow.groupby('author').nunique()"
   ]
  },
  {
   "cell_type": "code",
   "execution_count": 1179,
   "metadata": {},
   "outputs": [
    {
     "data": {
      "text/plain": [
       "(25766, 7)"
      ]
     },
     "execution_count": 1179,
     "metadata": {},
     "output_type": "execute_result"
    }
   ],
   "source": [
    "twow = two_week_hits.groupby('author').count()\n",
    "twow.shape"
   ]
  },
  {
   "cell_type": "code",
   "execution_count": 1181,
   "metadata": {},
   "outputs": [
    {
     "data": {
      "text/plain": [
       "7079"
      ]
     },
     "execution_count": 1181,
     "metadata": {},
     "output_type": "execute_result"
    }
   ],
   "source": [
    "twr = twow[twow['td']!=1]['td'].to_list()\n",
    "len(twr)"
   ]
  },
  {
   "cell_type": "code",
   "execution_count": 1282,
   "metadata": {},
   "outputs": [
    {
     "name": "stdout",
     "output_type": "stream",
     "text": [
      "(35060, 8)\n"
     ]
    }
   ],
   "source": [
    "df1 = twow[twow['td']!=1].index.tolist()\n",
    "fow = two_week_hits[two_week_hits['author'].isin(df1)]\n",
    "print(fow.shape)\n",
    "twr = fow.groupby('author').nunique()"
   ]
  },
  {
   "cell_type": "code",
   "execution_count": 1182,
   "metadata": {},
   "outputs": [
    {
     "data": {
      "text/plain": [
       "(52399, 7)"
      ]
     },
     "execution_count": 1182,
     "metadata": {},
     "output_type": "execute_result"
    }
   ],
   "source": [
    "onem = one_month_hits.groupby('author').count()\n",
    "onem.shape"
   ]
  },
  {
   "cell_type": "code",
   "execution_count": 1183,
   "metadata": {},
   "outputs": [
    {
     "data": {
      "text/plain": [
       "14889"
      ]
     },
     "execution_count": 1183,
     "metadata": {},
     "output_type": "execute_result"
    }
   ],
   "source": [
    "omr = onem[onem['td']!=1]['td'].to_list()\n",
    "len(omr)"
   ]
  },
  {
   "cell_type": "code",
   "execution_count": 1298,
   "metadata": {},
   "outputs": [
    {
     "name": "stdout",
     "output_type": "stream",
     "text": [
      "(71629, 8)\n"
     ]
    }
   ],
   "source": [
    "df1 = onem[onem['td']!=1].index.tolist()\n",
    "fow = one_month_hits[one_month_hits['author'].isin(df1)]\n",
    "print(fow.shape)\n",
    "omr = fow.groupby('author').nunique()"
   ]
  },
  {
   "cell_type": "code",
   "execution_count": 1186,
   "metadata": {},
   "outputs": [
    {
     "data": {
      "image/png": "[encoded data removed]",
      "text/plain": [
       "<Figure size 432x288 with 1 Axes>"
      ]
     },
     "metadata": {},
     "output_type": "display_data"
    }
   ],
   "source": [
    "plot_cdf([owr, twr, omr], 'hits/author',leg=['1 week time difference', '2 week time difference', '1 month time difference'], path = './cdf_of_hits_per_author_for_varying_td_filtered.pdf', islogx=True)"
   ]
  },
  {
   "cell_type": "code",
   "execution_count": 1187,
   "metadata": {},
   "outputs": [
    {
     "name": "stdout",
     "output_type": "stream",
     "text": [
      "(18185, 7)\n",
      "(25766, 7)\n",
      "25766\n",
      "(52399, 7)\n",
      "52399\n"
     ]
    },
    {
     "data": {
      "image/png": "[encoded data removed]",
      "text/plain": [
       "<Figure size 432x288 with 1 Axes>"
      ]
     },
     "metadata": {},
     "output_type": "display_data"
    }
   ],
   "source": [
    "onew = one_week_hits.groupby('author').nunique()\n",
    "print(onew.shape)\n",
    "owr = onew['tweet_id'].to_list()\n",
    "twow = two_week_hits.groupby('author').nunique()\n",
    "print(twow.shape)\n",
    "twr = twow['tweet_id'].to_list()\n",
    "print(len(twr))\n",
    "onem = one_month_hits.groupby('author').nunique()\n",
    "print(onem.shape)\n",
    "omr = onem['tweet_id'].to_list()\n",
    "print(len(omr))\n",
    "plot_cdf([owr, twr, omr], 'tweets/author',leg=['1 week time difference', '2 week time difference', '1 month time difference'], path = './cdf_of_tweets_per_author_for_varying_td_filtered.pdf', islogx=True)"
   ]
  },
  {
   "cell_type": "code",
   "execution_count": 1234,
   "metadata": {},
   "outputs": [
    {
     "data": {
      "image/png": "[encoded data removed]",
      "text/plain": [
       "<Figure size 432x288 with 1 Axes>"
      ]
     },
     "metadata": {},
     "output_type": "display_data"
    }
   ],
   "source": [
    "plot_cdf([owr['tweet_id'].tolist(), twr['tweet_id'].tolist(), omr['tweet_id'].tolist()], 'tweets/author',leg=['1 week time difference', '2 week time difference', '1 month time difference'], path = './cdf_of_tweets_per_author_for_varying_td_filtered.pdf', islogx=True)"
   ]
  },
  {
   "cell_type": "code",
   "execution_count": 1189,
   "metadata": {},
   "outputs": [
    {
     "name": "stdout",
     "output_type": "stream",
     "text": [
      "(18185, 7)\n",
      "(25766, 7)\n",
      "25766\n",
      "(52399, 7)\n",
      "52399\n"
     ]
    },
    {
     "data": {
      "image/png": "[encoded data removed]",
      "text/plain": [
       "<Figure size 432x288 with 1 Axes>"
      ]
     },
     "metadata": {},
     "output_type": "display_data"
    }
   ],
   "source": [
    "onew = one_week_hits.groupby('author').nunique()\n",
    "print(onew.shape)\n",
    "owr = onew['post_id'].to_list()\n",
    "twow = two_week_hits.groupby('author').nunique()\n",
    "print(twow.shape)\n",
    "twr = twow['post_id'].to_list()\n",
    "print(len(twr))\n",
    "onem = one_month_hits.groupby('author').nunique()\n",
    "print(onem.shape)\n",
    "omr = onem['post_id'].to_list()\n",
    "print(len(omr))\n",
    "plot_cdf([owr, twr, omr], 'posts/author',leg=['1 week time difference', '2 week time difference', '1 month time difference'], path = './cdf_of_posts_per_author_for_varying_td_filtered.pdf', islogx=True)"
   ]
  },
  {
   "cell_type": "code",
   "execution_count": 1235,
   "metadata": {},
   "outputs": [
    {
     "data": {
      "image/png": "[encoded data removed]",
      "text/plain": [
       "<Figure size 432x288 with 1 Axes>"
      ]
     },
     "metadata": {},
     "output_type": "display_data"
    }
   ],
   "source": [
    "plot_cdf([owr['post_id'].tolist(), twr['post_id'].tolist(), omr['post_id'].tolist()], 'posts/author',leg=['1 week time difference', '2 week time difference', '1 month time difference'], path = './cdf_of_posts_per_author_for_varying_td_filtered.pdf', islogx=True)"
   ]
  },
  {
   "cell_type": "markdown",
   "metadata": {},
   "source": [
    "# Most frequently occuring tweets within one weel time difference"
   ]
  },
  {
   "cell_type": "code",
   "execution_count": 1299,
   "metadata": {},
   "outputs": [],
   "source": [
    "frequent_tweets = fow.groupby('tweet_id').count()"
   ]
  },
  {
   "cell_type": "code",
   "execution_count": 1300,
   "metadata": {},
   "outputs": [],
   "source": [
    "frequent_tweets_df = pd.DataFrame()"
   ]
  },
  {
   "cell_type": "code",
   "execution_count": 1301,
   "metadata": {},
   "outputs": [],
   "source": [
    "frequent_tweets_df['tweet_id'] = frequent_tweets.index.tolist()"
   ]
  },
  {
   "cell_type": "code",
   "execution_count": 1302,
   "metadata": {},
   "outputs": [],
   "source": [
    "frequent_tweets_df['count'] = frequent_tweets.post_id.tolist()"
   ]
  },
  {
   "cell_type": "code",
   "execution_count": 1303,
   "metadata": {},
   "outputs": [
    {
     "data": {
      "text/plain": [
       "(964, 2)"
      ]
     },
     "execution_count": 1303,
     "metadata": {},
     "output_type": "execute_result"
    }
   ],
   "source": [
    "frequent_tweets_df.shape"
   ]
  },
  {
   "cell_type": "code",
   "execution_count": 1304,
   "metadata": {},
   "outputs": [],
   "source": [
    "frequent_tweets_df = frequent_tweets_df.sort_values(by=['count'], ascending=False)"
   ]
  },
  {
   "cell_type": "code",
   "execution_count": 1305,
   "metadata": {},
   "outputs": [],
   "source": [
    "related_data = data[data['tweetid'].isin(frequent_tweets_df['tweet_id'].tolist())]"
   ]
  },
  {
   "cell_type": "code",
   "execution_count": 1306,
   "metadata": {},
   "outputs": [
    {
     "data": {
      "text/plain": [
       "(1019, 31)"
      ]
     },
     "execution_count": 1306,
     "metadata": {},
     "output_type": "execute_result"
    }
   ],
   "source": [
    "related_data.shape"
   ]
  },
  {
   "cell_type": "code",
   "execution_count": 1307,
   "metadata": {},
   "outputs": [],
   "source": [
    "texts = []\n",
    "for i in frequent_tweets_df['tweet_id'].to_list():\n",
    "    texts.append((related_data[related_data['tweetid'] == i]['tweet_text'].values)[0])"
   ]
  },
  {
   "cell_type": "code",
   "execution_count": 1308,
   "metadata": {},
   "outputs": [
    {
     "data": {
      "text/plain": [
       "964"
      ]
     },
     "execution_count": 1308,
     "metadata": {},
     "output_type": "execute_result"
    }
   ],
   "source": [
    "len(texts)"
   ]
  },
  {
   "cell_type": "code",
   "execution_count": 1309,
   "metadata": {},
   "outputs": [],
   "source": [
    "frequent_tweets_df['tweet_text'] = texts"
   ]
  },
  {
   "cell_type": "code",
   "execution_count": 1310,
   "metadata": {},
   "outputs": [
    {
     "data": {
      "text/html": [
       "<div>\n",
       "<style scoped>\n",
       "    .dataframe tbody tr th:only-of-type {\n",
       "        vertical-align: middle;\n",
       "    }\n",
       "\n",
       "    .dataframe tbody tr th {\n",
       "        vertical-align: top;\n",
       "    }\n",
       "\n",
       "    .dataframe thead th {\n",
       "        text-align: right;\n",
       "    }\n",
       "</style>\n",
       "<table border=\"1\" class=\"dataframe\">\n",
       "  <thead>\n",
       "    <tr style=\"text-align: right;\">\n",
       "      <th></th>\n",
       "      <th>tweet_id</th>\n",
       "      <th>count</th>\n",
       "      <th>tweet_text</th>\n",
       "    </tr>\n",
       "  </thead>\n",
       "  <tbody>\n",
       "    <tr>\n",
       "      <th>312</th>\n",
       "      <td>798538921135181824</td>\n",
       "      <td>4937</td>\n",
       "      <td>One more way to #MakeAmericaGreatAgain https://t.co/i8pAbBQ8Og</td>\n",
       "    </tr>\n",
       "    <tr>\n",
       "      <th>266</th>\n",
       "      <td>796056051246366725</td>\n",
       "      <td>3630</td>\n",
       "      <td>@realDonaldTrump I vote #TrumpForPresident</td>\n",
       "    </tr>\n",
       "    <tr>\n",
       "      <th>281</th>\n",
       "      <td>796122147580166148</td>\n",
       "      <td>3193</td>\n",
       "      <td>time to #MakeAmericaGreatAgain #TrumpForPresident</td>\n",
       "    </tr>\n",
       "    <tr>\n",
       "      <th>258</th>\n",
       "      <td>795447093854769152</td>\n",
       "      <td>2556</td>\n",
       "      <td>LIES!!!  #CrookedHillary https://t.co/waieEkxWF3</td>\n",
       "    </tr>\n",
       "    <tr>\n",
       "      <th>290</th>\n",
       "      <td>796266640753225728</td>\n",
       "      <td>2409</td>\n",
       "      <td>Trump wins White House in astonishing victory https://t.co/XBEeZpYk6F https://t.co/EObi2rBK7X</td>\n",
       "    </tr>\n",
       "    <tr>\n",
       "      <th>931</th>\n",
       "      <td>864788245736865793</td>\n",
       "      <td>2321</td>\n",
       "      <td>@Major_Daye It needs to be killed! Period the end</td>\n",
       "    </tr>\n",
       "    <tr>\n",
       "      <th>158</th>\n",
       "      <td>786518446406180868</td>\n",
       "      <td>2087</td>\n",
       "      <td>Washington Post Endorses Hillary Clinton for President https://t.co/jU5lYbqWDg</td>\n",
       "    </tr>\n",
       "    <tr>\n",
       "      <th>242</th>\n",
       "      <td>793119132912877574</td>\n",
       "      <td>1581</td>\n",
       "      <td>Hillary Clinton photo illustrates pathological lying in Google results https://t.co/Bqm5RkK7xp</td>\n",
       "    </tr>\n",
       "    <tr>\n",
       "      <th>307</th>\n",
       "      <td>797896909041987584</td>\n",
       "      <td>1481</td>\n",
       "      <td>No, she deserves to be in prison!  #HillaryForPrison https://t.co/w8uCbssXBw</td>\n",
       "    </tr>\n",
       "    <tr>\n",
       "      <th>72</th>\n",
       "      <td>779723003131297796</td>\n",
       "      <td>1442</td>\n",
       "      <td>N.Y. Times endorses Hillary Clinton for president https://t.co/P8rtTHkl9Z</td>\n",
       "    </tr>\n",
       "    <tr>\n",
       "      <th>80</th>\n",
       "      <td>780343707253903360</td>\n",
       "      <td>1427</td>\n",
       "      <td>New York Times Endorses Hillary Clinton for President https://t.co/ivUM5anr4X https://t.co/XzmWm8sp7U</td>\n",
       "    </tr>\n",
       "    <tr>\n",
       "      <th>232</th>\n",
       "      <td>792180382128930817</td>\n",
       "      <td>1408</td>\n",
       "      <td>Trump = honest\\nHillary = liar https://t.co/IugEJl6fAB</td>\n",
       "    </tr>\n",
       "    <tr>\n",
       "      <th>73</th>\n",
       "      <td>779736896872128512</td>\n",
       "      <td>1258</td>\n",
       "      <td>New York Times Endorses Hillary Clinton for President  #politics</td>\n",
       "    </tr>\n",
       "    <tr>\n",
       "      <th>573</th>\n",
       "      <td>846536296285769729</td>\n",
       "      <td>1202</td>\n",
       "      <td>@realDonaldTrump Lock Her Up! Lock her Up! https://t.co/YXorGP0DSk</td>\n",
       "    </tr>\n",
       "    <tr>\n",
       "      <th>276</th>\n",
       "      <td>796117966987399172</td>\n",
       "      <td>1194</td>\n",
       "      <td>@HillaryClinton you're going to jail #HillaryForPrison2016 #TrumpForPresident</td>\n",
       "    </tr>\n",
       "    <tr>\n",
       "      <th>261</th>\n",
       "      <td>795681206834606080</td>\n",
       "      <td>1176</td>\n",
       "      <td>.@HillaryClinton is a crook, a liar.  See the honest version of #CrookedHillary:\\n\\n➡@Honest_Hillary⬅</td>\n",
       "    </tr>\n",
       "    <tr>\n",
       "      <th>285</th>\n",
       "      <td>796131666255286272</td>\n",
       "      <td>1170</td>\n",
       "      <td>@Jeff__Yang @HillaryClinton ya vote to put Hillary in prison #Hillary4Prison #TrumpForPresident</td>\n",
       "    </tr>\n",
       "    <tr>\n",
       "      <th>292</th>\n",
       "      <td>796412486689914880</td>\n",
       "      <td>1077</td>\n",
       "      <td>Hillary Clinton, you’re going to prison!</td>\n",
       "    </tr>\n",
       "    <tr>\n",
       "      <th>284</th>\n",
       "      <td>796130838480097281</td>\n",
       "      <td>1019</td>\n",
       "      <td>Time for #CrookedHillary to go to jail! #LockHerUp https://t.co/zpnsBS8tIk #TrumpForPresident</td>\n",
       "    </tr>\n",
       "    <tr>\n",
       "      <th>268</th>\n",
       "      <td>796070174411653120</td>\n",
       "      <td>875</td>\n",
       "      <td>TRUMP 2016 #TrumpForPresident</td>\n",
       "    </tr>\n",
       "    <tr>\n",
       "      <th>309</th>\n",
       "      <td>797900334584578048</td>\n",
       "      <td>838</td>\n",
       "      <td>FUCK #CrookedHillary, a lying corrupt insider! https://t.co/gL8q57wbrS</td>\n",
       "    </tr>\n",
       "    <tr>\n",
       "      <th>193</th>\n",
       "      <td>788538403767869440</td>\n",
       "      <td>830</td>\n",
       "      <td>Lock her up! #HillaryForPrison https://t.co/27OfL3ToXp</td>\n",
       "    </tr>\n",
       "    <tr>\n",
       "      <th>333</th>\n",
       "      <td>801789167818702848</td>\n",
       "      <td>828</td>\n",
       "      <td>\"Electors Switch To Hillary</td>\n",
       "    </tr>\n",
       "    <tr>\n",
       "      <th>178</th>\n",
       "      <td>787915842230988800</td>\n",
       "      <td>814</td>\n",
       "      <td>Truth:  Hillary hates you\\n\\n#CrookedHillary https://t.co/v4J4mUCqGo</td>\n",
       "    </tr>\n",
       "    <tr>\n",
       "      <th>75</th>\n",
       "      <td>779988642714357760</td>\n",
       "      <td>802</td>\n",
       "      <td>N.Y. Times endorses Clinton in White House race https://t.co/Ua2Ey3zOlg</td>\n",
       "    </tr>\n",
       "    <tr>\n",
       "      <th>144</th>\n",
       "      <td>785457826021924864</td>\n",
       "      <td>734</td>\n",
       "      <td>And she would be! #HillaryForPrison https://t.co/DkOQxwQNZr</td>\n",
       "    </tr>\n",
       "    <tr>\n",
       "      <th>385</th>\n",
       "      <td>809221432060186624</td>\n",
       "      <td>714</td>\n",
       "      <td>Of course.  #MakeAmericaGreatAgain https://t.co/MV8OQCE9xn</td>\n",
       "    </tr>\n",
       "    <tr>\n",
       "      <th>336</th>\n",
       "      <td>802195221727485952</td>\n",
       "      <td>633</td>\n",
       "      <td>\"#ClimateChange\" is a hoax!\\nhttps://t.co/ZmZux519Dr</td>\n",
       "    </tr>\n",
       "    <tr>\n",
       "      <th>288</th>\n",
       "      <td>796234830241497088</td>\n",
       "      <td>606</td>\n",
       "      <td>Donald Trump is about to win! #GoTrump #ElectionNight https://t.co/IB0rWQn0ca</td>\n",
       "    </tr>\n",
       "    <tr>\n",
       "      <th>310</th>\n",
       "      <td>798043118251585536</td>\n",
       "      <td>595</td>\n",
       "      <td>@iZ328VglWrG25qPym1bifLoiwXD9v1+A3G4WU5AThso= FUCK #CrookedHillary, a lying corrupt insider! https://t.co/gL8q57wbrS</td>\n",
       "    </tr>\n",
       "    <tr>\n",
       "      <th>98</th>\n",
       "      <td>781325991755051008</td>\n",
       "      <td>557</td>\n",
       "      <td>@realDonaldTrump  \"Hillary Clinton is the most corrupt person ever to run for President of the US\" ~ @newtgingrich</td>\n",
       "    </tr>\n",
       "    <tr>\n",
       "      <th>257</th>\n",
       "      <td>795411345885818880</td>\n",
       "      <td>548</td>\n",
       "      <td>@realDonaldTrump Thank YOU Mr. Trump for amazing rally!</td>\n",
       "    </tr>\n",
       "    <tr>\n",
       "      <th>270</th>\n",
       "      <td>796108172113088513</td>\n",
       "      <td>542</td>\n",
       "      <td>@Kirwan6 yup it's time for #HillaryForPrison2016 #TrumpForPresident</td>\n",
       "    </tr>\n",
       "    <tr>\n",
       "      <th>214</th>\n",
       "      <td>790563750709334016</td>\n",
       "      <td>515</td>\n",
       "      <td>That's why #HillaryForPrison2016 https://t.co/nHadDGpDFG</td>\n",
       "    </tr>\n",
       "    <tr>\n",
       "      <th>236</th>\n",
       "      <td>792539289942917121</td>\n",
       "      <td>513</td>\n",
       "      <td>Why you shouldn't vote for Hillary: https://t.co/zdxfLrPMij</td>\n",
       "    </tr>\n",
       "    <tr>\n",
       "      <th>308</th>\n",
       "      <td>797898108994600960</td>\n",
       "      <td>509</td>\n",
       "      <td>.@realDonaldTrump deserved that victory, and @HillaryClinton should be in jail!  #LockHerUp #HillaryForPrison https://t.co/w8uCbssXBw</td>\n",
       "    </tr>\n",
       "    <tr>\n",
       "      <th>271</th>\n",
       "      <td>796109440844001280</td>\n",
       "      <td>504</td>\n",
       "      <td>@lizziehodgson01 it's time for #HillaryForPrison2016 #TrumpForPresident</td>\n",
       "    </tr>\n",
       "    <tr>\n",
       "      <th>287</th>\n",
       "      <td>796135449823735809</td>\n",
       "      <td>473</td>\n",
       "      <td>@selinajayne84 yup that's why it's time for  #HillaryForPrison2016 #TrumpForPresident</td>\n",
       "    </tr>\n",
       "    <tr>\n",
       "      <th>252</th>\n",
       "      <td>794183351049588736</td>\n",
       "      <td>445</td>\n",
       "      <td>True words! #blacklivesmatter https://t.co/Nwc0Q2Izbo</td>\n",
       "    </tr>\n",
       "    <tr>\n",
       "      <th>360</th>\n",
       "      <td>805486055696674816</td>\n",
       "      <td>430</td>\n",
       "      <td>Climate change is a hoax, dumbass. https://t.co/4zKR2mg4cA</td>\n",
       "    </tr>\n",
       "    <tr>\n",
       "      <th>253</th>\n",
       "      <td>794253118053744640</td>\n",
       "      <td>428</td>\n",
       "      <td>.@SenTomCotton: The Clinton Foundation may be the world's largest money laundering and influence-peddling operation  #HillaryIndictment https://t.co/RODR1rH7TA</td>\n",
       "    </tr>\n",
       "    <tr>\n",
       "      <th>342</th>\n",
       "      <td>802992739184848896</td>\n",
       "      <td>405</td>\n",
       "      <td>#PresidentTrump will do an extraordinary job as our next president!  #MakeAmericaGreatAgain https://t.co/SbiFUFauiX</td>\n",
       "    </tr>\n",
       "    <tr>\n",
       "      <th>304</th>\n",
       "      <td>797314970174320640</td>\n",
       "      <td>399</td>\n",
       "      <td>The terrorists that hurt this dog should be sentenced to death by firing squad.\\nIt's time to hunt these bastards down.\\nCC: @joannakrupa https://t.co/Wy5SrUrjM4</td>\n",
       "    </tr>\n",
       "    <tr>\n",
       "      <th>334</th>\n",
       "      <td>801797239748366336</td>\n",
       "      <td>384</td>\n",
       "      <td>Hillary CLINTON in JAIL! https://t.co/wlYCDqJJF0\"</td>\n",
       "    </tr>\n",
       "    <tr>\n",
       "      <th>129</th>\n",
       "      <td>784785439043354626</td>\n",
       "      <td>382</td>\n",
       "      <td>#Trump caught on tape making extremely ride, sexually aggressive comments about women https://t.co/DMwSd4WDHT</td>\n",
       "    </tr>\n",
       "    <tr>\n",
       "      <th>113</th>\n",
       "      <td>782712392111108096</td>\n",
       "      <td>359</td>\n",
       "      <td>This is important  #BlackLivesMatter https://t.co/qaZvvMIGuU</td>\n",
       "    </tr>\n",
       "    <tr>\n",
       "      <th>23</th>\n",
       "      <td>774970939922456576</td>\n",
       "      <td>349</td>\n",
       "      <td>This has nothing to do with racism https://t.co/XJcBbVZ1t3</td>\n",
       "    </tr>\n",
       "    <tr>\n",
       "      <th>234</th>\n",
       "      <td>792485734678659072</td>\n",
       "      <td>330</td>\n",
       "      <td>The whole nation for Trump!  Amazing! https://t.co/10SetXgd01</td>\n",
       "    </tr>\n",
       "    <tr>\n",
       "      <th>105</th>\n",
       "      <td>782044614740086785</td>\n",
       "      <td>326</td>\n",
       "      <td>True! #BlackLivesMatter https://t.co/9PlWdgor85</td>\n",
       "    </tr>\n",
       "    <tr>\n",
       "      <th>387</th>\n",
       "      <td>809231302704533504</td>\n",
       "      <td>314</td>\n",
       "      <td>.@EllisonCampaign\\nFact 18 https://t.co/ZuR0Zyd0l5</td>\n",
       "    </tr>\n",
       "    <tr>\n",
       "      <th>24</th>\n",
       "      <td>775060982053892096</td>\n",
       "      <td>313</td>\n",
       "      <td>.@JudgeJeanine: \"You, Hillary, are a liar, and a pathological one at that. You’re a cheat.\"  #ClintonCollapse https://t.co/qPYHgOizP5</td>\n",
       "    </tr>\n",
       "    <tr>\n",
       "      <th>45</th>\n",
       "      <td>777960584016867329</td>\n",
       "      <td>308</td>\n",
       "      <td>Exactly this! #BlackLivesMatter https://t.co/Bvt2jk1asx</td>\n",
       "    </tr>\n",
       "    <tr>\n",
       "      <th>77</th>\n",
       "      <td>780060609140240385</td>\n",
       "      <td>279</td>\n",
       "      <td>NYT editorial board endorses Clinton https://t.co/cyv2bc7ucL #politics https://t.co/L4WF33zxIr</td>\n",
       "    </tr>\n",
       "    <tr>\n",
       "      <th>184</th>\n",
       "      <td>788152627569635328</td>\n",
       "      <td>274</td>\n",
       "      <td>So powerful... #BlackLivesMatter https://t.co/lUUX127WHf</td>\n",
       "    </tr>\n",
       "    <tr>\n",
       "      <th>111</th>\n",
       "      <td>782550449685684224</td>\n",
       "      <td>268</td>\n",
       "      <td>Fitting #HillaryForPrison https://t.co/cP3qULW0rs</td>\n",
       "    </tr>\n",
       "    <tr>\n",
       "      <th>138</th>\n",
       "      <td>785309451855147010</td>\n",
       "      <td>256</td>\n",
       "      <td>I want to congratulate Mr. President Trump on winning the #Debate &amp;amp; thank him for loving America!  Please show your support! https://t.co/e3puKauqPL</td>\n",
       "    </tr>\n",
       "    <tr>\n",
       "      <th>256</th>\n",
       "      <td>795015359464022016</td>\n",
       "      <td>254</td>\n",
       "      <td>.@BarackObama exposes @HillaryClinton!  #CrookedHillary https://t.co/wzIwyOewiK</td>\n",
       "    </tr>\n",
       "    <tr>\n",
       "      <th>168</th>\n",
       "      <td>787073997678579712</td>\n",
       "      <td>246</td>\n",
       "      <td>WATCH: Trump says 'this whole election is being rigged' https://t.co/kiLgHyuILn</td>\n",
       "    </tr>\n",
       "    <tr>\n",
       "      <th>139</th>\n",
       "      <td>785327017847693312</td>\n",
       "      <td>245</td>\n",
       "      <td>That's what we want! #BlackLivesMatter https://t.co/y0jWwTHZPK</td>\n",
       "    </tr>\n",
       "    <tr>\n",
       "      <th>74</th>\n",
       "      <td>779765135833337856</td>\n",
       "      <td>237</td>\n",
       "      <td>NYT editorial board endorses Clinton https://t.co/ZaFGu2MsRB #politics</td>\n",
       "    </tr>\n",
       "    <tr>\n",
       "      <th>61</th>\n",
       "      <td>779234433920413697</td>\n",
       "      <td>218</td>\n",
       "      <td>#CrookedHillary using dishonest media and trying to fool everyone... https://t.co/6OtuvzRxbG</td>\n",
       "    </tr>\n",
       "    <tr>\n",
       "      <th>572</th>\n",
       "      <td>846534135606923265</td>\n",
       "      <td>216</td>\n",
       "      <td>@realDonaldTrump They are criminals who belong in jail!</td>\n",
       "    </tr>\n",
       "    <tr>\n",
       "      <th>28</th>\n",
       "      <td>775528717846126592</td>\n",
       "      <td>214</td>\n",
       "      <td>@surfsalterpath blameObama</td>\n",
       "    </tr>\n",
       "    <tr>\n",
       "      <th>29</th>\n",
       "      <td>775632642708385792</td>\n",
       "      <td>208</td>\n",
       "      <td>#DeplorableHillary #Hypocrite #ExtremelyCareless #Clintonliesmatter #ClintonCoverUp#ClintonSpinMachine #ClintonLies https://t.co/45OCrCbmwm</td>\n",
       "    </tr>\n",
       "    <tr>\n",
       "      <th>289</th>\n",
       "      <td>796247633224343552</td>\n",
       "      <td>204</td>\n",
       "      <td>Congratulations, President Donald J. Trump! America Will Be Great Again! https://t.co/sXCZD3hr8h</td>\n",
       "    </tr>\n",
       "    <tr>\n",
       "      <th>17</th>\n",
       "      <td>774648161373528065</td>\n",
       "      <td>192</td>\n",
       "      <td>'Hillary Clinton may be the most corrupt person ever to seek the presidency'~ Donald Trump https://t.co/vzF3sy0w2B</td>\n",
       "    </tr>\n",
       "    <tr>\n",
       "      <th>339</th>\n",
       "      <td>802726552668499968</td>\n",
       "      <td>191</td>\n",
       "      <td>.@74f5c728e7d446d @CNN Time to #BoycottCNN!</td>\n",
       "    </tr>\n",
       "    <tr>\n",
       "      <th>696</th>\n",
       "      <td>851937007483932673</td>\n",
       "      <td>191</td>\n",
       "      <td>BREAKING: President Trump says he is not sending troops into Syria   #AmericaFirst</td>\n",
       "    </tr>\n",
       "    <tr>\n",
       "      <th>344</th>\n",
       "      <td>803434760114577408</td>\n",
       "      <td>188</td>\n",
       "      <td>.@realDonaldTrump It's time to #BoycottCNN!</td>\n",
       "    </tr>\n",
       "    <tr>\n",
       "      <th>283</th>\n",
       "      <td>796129860951359488</td>\n",
       "      <td>180</td>\n",
       "      <td>@captain_nappy Yes, Hillary IS the queen of fuckery. #HillaryForPrison2016 #treason #TrumpForPresident</td>\n",
       "    </tr>\n",
       "    <tr>\n",
       "      <th>167</th>\n",
       "      <td>787034343017361408</td>\n",
       "      <td>175</td>\n",
       "      <td>More women accuse Donald Trump of sexual misconduct https://t.co/eHpflYMp8c</td>\n",
       "    </tr>\n",
       "    <tr>\n",
       "      <th>64</th>\n",
       "      <td>779361546786840577</td>\n",
       "      <td>171</td>\n",
       "      <td>Cincinnati Enquirer endorses Hillary Clinton for president https://t.co/dxsnK3PYeg #politics</td>\n",
       "    </tr>\n",
       "    <tr>\n",
       "      <th>143</th>\n",
       "      <td>785423941930217472</td>\n",
       "      <td>164</td>\n",
       "      <td>Foke Hillary Clinton scores decisive win against Donald Trump in first snap polls https://t.co/ha6m9wJm16 #Foke</td>\n",
       "    </tr>\n",
       "    <tr>\n",
       "      <th>286</th>\n",
       "      <td>796132291118592004</td>\n",
       "      <td>163</td>\n",
       "      <td>. JUSTICE FOR HILLARY  -- BRING HER TO HEEL  To Lock Her Up --WE MUST-- Lock Her Out  #LockHerUp #CrookedHillary #Rigg… #TrumpForPresident</td>\n",
       "    </tr>\n",
       "    <tr>\n",
       "      <th>490</th>\n",
       "      <td>841982932503912449</td>\n",
       "      <td>159</td>\n",
       "      <td>@todayinsyria 25 people were killed</td>\n",
       "    </tr>\n",
       "    <tr>\n",
       "      <th>235</th>\n",
       "      <td>792492015606829056</td>\n",
       "      <td>154</td>\n",
       "      <td>Why some Obamacare customers are seeing massive premium increases https://t.co/EVJUt9Sp36</td>\n",
       "    </tr>\n",
       "    <tr>\n",
       "      <th>588</th>\n",
       "      <td>847245239098130433</td>\n",
       "      <td>151</td>\n",
       "      <td>Remember that Islam is the #ReligionOfPeace https://t.co/xIqj8cFILo</td>\n",
       "    </tr>\n",
       "    <tr>\n",
       "      <th>898</th>\n",
       "      <td>861925709542866944</td>\n",
       "      <td>149</td>\n",
       "      <td>@Aditiyaramdass1 @BigDuhie1955 Fuck u FuckIslam</td>\n",
       "    </tr>\n",
       "    <tr>\n",
       "      <th>248</th>\n",
       "      <td>793524259284918273</td>\n",
       "      <td>142</td>\n",
       "      <td>The #FBI says there is no direct connection between #DonaldTrump and #Russia https://t.co/d49r8kaOal</td>\n",
       "    </tr>\n",
       "    <tr>\n",
       "      <th>264</th>\n",
       "      <td>796048641307906048</td>\n",
       "      <td>142</td>\n",
       "      <td>@TheDemocrats the Only Candidate that should be in Prison @HillaryClinton #LockHerUp https://t.co/vYk6wW2BZj #TrumpForPresident</td>\n",
       "    </tr>\n",
       "    <tr>\n",
       "      <th>332</th>\n",
       "      <td>801750428811755520</td>\n",
       "      <td>139</td>\n",
       "      <td>HILLARY CLINTON IN PRISON.</td>\n",
       "    </tr>\n",
       "    <tr>\n",
       "      <th>763</th>\n",
       "      <td>855099681696776198</td>\n",
       "      <td>134</td>\n",
       "      <td>@__JawanFDU MY bed.\\n😡</td>\n",
       "    </tr>\n",
       "    <tr>\n",
       "      <th>377</th>\n",
       "      <td>807804193415143424</td>\n",
       "      <td>128</td>\n",
       "      <td>.@HillaryClinton picks her cabinet...  #HillaryForPrison #LockHerUp https://t.co/5BUi92AvTe</td>\n",
       "    </tr>\n",
       "    <tr>\n",
       "      <th>613</th>\n",
       "      <td>848211748041756674</td>\n",
       "      <td>127</td>\n",
       "      <td>Trump calls White House-Russia controversy 'fake news,' 'total scam' https://t.co/2Imv5fagxv</td>\n",
       "    </tr>\n",
       "    <tr>\n",
       "      <th>928</th>\n",
       "      <td>864563242387075074</td>\n",
       "      <td>125</td>\n",
       "      <td>Donald Trump is his administration's own worst enemy https://t.co/4Uuk0os9I7</td>\n",
       "    </tr>\n",
       "    <tr>\n",
       "      <th>293</th>\n",
       "      <td>796438641060945920</td>\n",
       "      <td>123</td>\n",
       "      <td>@JohnLegere @realDonaldTrump Thank you!  #MakeAmericaGreatAgain</td>\n",
       "    </tr>\n",
       "    <tr>\n",
       "      <th>714</th>\n",
       "      <td>852541793996591104</td>\n",
       "      <td>121</td>\n",
       "      <td>That's how #ReligionOfPeace works #BanIslam https://t.co/wi6tm6LX3d</td>\n",
       "    </tr>\n",
       "    <tr>\n",
       "      <th>126</th>\n",
       "      <td>784567586633777152</td>\n",
       "      <td>120</td>\n",
       "      <td>Trump caught on video making lewd, crude remarks about women https://t.co/g0dgWof161 #politics</td>\n",
       "    </tr>\n",
       "    <tr>\n",
       "      <th>394</th>\n",
       "      <td>810011665546608640</td>\n",
       "      <td>118</td>\n",
       "      <td>.@HillaryClinton should be prosecuted!  #HillaryForPrison #LockHerUp  https://t.co/JJXsN200p5</td>\n",
       "    </tr>\n",
       "    <tr>\n",
       "      <th>699</th>\n",
       "      <td>852086925175513088</td>\n",
       "      <td>116</td>\n",
       "      <td>Trump Says 'We're Not Going Into Syria' in New Fox Interview https://t.co/xXsUzgJ5QF https://t.co/iDS4B0ULOV</td>\n",
       "    </tr>\n",
       "    <tr>\n",
       "      <th>294</th>\n",
       "      <td>796557013895487488</td>\n",
       "      <td>114</td>\n",
       "      <td>When someone asks you why President Trump won.\\n#TrumpTrain \\n#MakeAmericaGreatAgain https://t.co/YnpiFTlqvx</td>\n",
       "    </tr>\n",
       "    <tr>\n",
       "      <th>317</th>\n",
       "      <td>799293617839996928</td>\n",
       "      <td>113</td>\n",
       "      <td>Donald Trump's election has unleashed the hate https://t.co/noVUBn8Xhs https://t.co/9rARkm94cE</td>\n",
       "    </tr>\n",
       "    <tr>\n",
       "      <th>355</th>\n",
       "      <td>804527110035533826</td>\n",
       "      <td>112</td>\n",
       "      <td>Anti-Trump demonstrators march outside speech https://t.co/bhfiff1uli https://t.co/6SCUCgLNDN</td>\n",
       "    </tr>\n",
       "    <tr>\n",
       "      <th>272</th>\n",
       "      <td>796110435896410112</td>\n",
       "      <td>110</td>\n",
       "      <td>Hillary should just be in prison no big deal #TrumpForPresident</td>\n",
       "    </tr>\n",
       "    <tr>\n",
       "      <th>537</th>\n",
       "      <td>843910146824781824</td>\n",
       "      <td>109</td>\n",
       "      <td>@hrtablaze Disgusting how their hate for Trump overrides common sense.</td>\n",
       "    </tr>\n",
       "    <tr>\n",
       "      <th>41</th>\n",
       "      <td>776970016834981888</td>\n",
       "      <td>109</td>\n",
       "      <td>Damn, #LyinCrookedHillary's #lies are pretty sickening. https://t.co/bCSrgEAQWC</td>\n",
       "    </tr>\n",
       "    <tr>\n",
       "      <th>25</th>\n",
       "      <td>775105694701801472</td>\n",
       "      <td>108</td>\n",
       "      <td>@schweinehund74 @PrincessGabGab1 great point! Only #CrookedLyingHillary!!!</td>\n",
       "    </tr>\n",
       "    <tr>\n",
       "      <th>179</th>\n",
       "      <td>787966380440186880</td>\n",
       "      <td>104</td>\n",
       "      <td>The Battle for Mosul https://t.co/fzlYNtGXJa</td>\n",
       "    </tr>\n",
       "    <tr>\n",
       "      <th>210</th>\n",
       "      <td>790369725335400448</td>\n",
       "      <td>103</td>\n",
       "      <td>.@JudgeJeanine: \"Hillary Clinton is a liar and the WikiLeaks emails prove it.\" https://t.co/j0TnFn7rXP</td>\n",
       "    </tr>\n",
       "    <tr>\n",
       "      <th>279</th>\n",
       "      <td>796119727856906242</td>\n",
       "      <td>102</td>\n",
       "      <td>Hillary is corrupt through and through. Send her to prison. #HillaryForPrison2016 https://t.co/HElIXYd0Mt #TrumpForPresident</td>\n",
       "    </tr>\n",
       "  </tbody>\n",
       "</table>\n",
       "</div>"
      ],
      "text/plain": [
       "               tweet_id  count                                                                                                                                                         tweet_text\n",
       "312  798538921135181824  4937   One more way to #MakeAmericaGreatAgain https://t.co/i8pAbBQ8Og                                                                                                   \n",
       "266  796056051246366725  3630   @realDonaldTrump I vote #TrumpForPresident                                                                                                                       \n",
       "281  796122147580166148  3193   time to #MakeAmericaGreatAgain #TrumpForPresident                                                                                                                \n",
       "258  795447093854769152  2556   LIES!!!  #CrookedHillary https://t.co/waieEkxWF3                                                                                                                 \n",
       "290  796266640753225728  2409   Trump wins White House in astonishing victory https://t.co/XBEeZpYk6F https://t.co/EObi2rBK7X                                                                    \n",
       "931  864788245736865793  2321   @Major_Daye It needs to be killed! Period the end                                                                                                                \n",
       "158  786518446406180868  2087   Washington Post Endorses Hillary Clinton for President https://t.co/jU5lYbqWDg                                                                                   \n",
       "242  793119132912877574  1581   Hillary Clinton photo illustrates pathological lying in Google results https://t.co/Bqm5RkK7xp                                                                   \n",
       "307  797896909041987584  1481   No, she deserves to be in prison!  #HillaryForPrison https://t.co/w8uCbssXBw                                                                                     \n",
       "72   779723003131297796  1442   N.Y. Times endorses Hillary Clinton for president https://t.co/P8rtTHkl9Z                                                                                        \n",
       "80   780343707253903360  1427   New York Times Endorses Hillary Clinton for President https://t.co/ivUM5anr4X https://t.co/XzmWm8sp7U                                                            \n",
       "232  792180382128930817  1408   Trump = honest\\nHillary = liar https://t.co/IugEJl6fAB                                                                                                           \n",
       "73   779736896872128512  1258   New York Times Endorses Hillary Clinton for President  #politics                                                                                                 \n",
       "573  846536296285769729  1202   @realDonaldTrump Lock Her Up! Lock her Up! https://t.co/YXorGP0DSk                                                                                               \n",
       "276  796117966987399172  1194   @HillaryClinton you're going to jail #HillaryForPrison2016 #TrumpForPresident                                                                                    \n",
       "261  795681206834606080  1176   .@HillaryClinton is a crook, a liar.  See the honest version of #CrookedHillary:\\n\\n➡@Honest_Hillary⬅                                                            \n",
       "285  796131666255286272  1170   @Jeff__Yang @HillaryClinton ya vote to put Hillary in prison #Hillary4Prison #TrumpForPresident                                                                  \n",
       "292  796412486689914880  1077   Hillary Clinton, you’re going to prison!                                                                                                                         \n",
       "284  796130838480097281  1019   Time for #CrookedHillary to go to jail! #LockHerUp https://t.co/zpnsBS8tIk #TrumpForPresident                                                                    \n",
       "268  796070174411653120  875    TRUMP 2016 #TrumpForPresident                                                                                                                                    \n",
       "309  797900334584578048  838    FUCK #CrookedHillary, a lying corrupt insider! https://t.co/gL8q57wbrS                                                                                           \n",
       "193  788538403767869440  830    Lock her up! #HillaryForPrison https://t.co/27OfL3ToXp                                                                                                           \n",
       "333  801789167818702848  828    \"Electors Switch To Hillary                                                                                                                                      \n",
       "178  787915842230988800  814    Truth:  Hillary hates you\\n\\n#CrookedHillary https://t.co/v4J4mUCqGo                                                                                             \n",
       "75   779988642714357760  802    N.Y. Times endorses Clinton in White House race https://t.co/Ua2Ey3zOlg                                                                                          \n",
       "144  785457826021924864  734    And she would be! #HillaryForPrison https://t.co/DkOQxwQNZr                                                                                                      \n",
       "385  809221432060186624  714    Of course.  #MakeAmericaGreatAgain https://t.co/MV8OQCE9xn                                                                                                       \n",
       "336  802195221727485952  633    \"#ClimateChange\" is a hoax!\\nhttps://t.co/ZmZux519Dr                                                                                                             \n",
       "288  796234830241497088  606    Donald Trump is about to win! #GoTrump #ElectionNight https://t.co/IB0rWQn0ca                                                                                    \n",
       "310  798043118251585536  595    @iZ328VglWrG25qPym1bifLoiwXD9v1+A3G4WU5AThso= FUCK #CrookedHillary, a lying corrupt insider! https://t.co/gL8q57wbrS                                             \n",
       "98   781325991755051008  557    @realDonaldTrump  \"Hillary Clinton is the most corrupt person ever to run for President of the US\" ~ @newtgingrich                                               \n",
       "257  795411345885818880  548    @realDonaldTrump Thank YOU Mr. Trump for amazing rally!                                                                                                          \n",
       "270  796108172113088513  542    @Kirwan6 yup it's time for #HillaryForPrison2016 #TrumpForPresident                                                                                              \n",
       "214  790563750709334016  515    That's why #HillaryForPrison2016 https://t.co/nHadDGpDFG                                                                                                         \n",
       "236  792539289942917121  513    Why you shouldn't vote for Hillary: https://t.co/zdxfLrPMij                                                                                                      \n",
       "308  797898108994600960  509    .@realDonaldTrump deserved that victory, and @HillaryClinton should be in jail!  #LockHerUp #HillaryForPrison https://t.co/w8uCbssXBw                            \n",
       "271  796109440844001280  504    @lizziehodgson01 it's time for #HillaryForPrison2016 #TrumpForPresident                                                                                          \n",
       "287  796135449823735809  473    @selinajayne84 yup that's why it's time for  #HillaryForPrison2016 #TrumpForPresident                                                                            \n",
       "252  794183351049588736  445    True words! #blacklivesmatter https://t.co/Nwc0Q2Izbo                                                                                                            \n",
       "360  805486055696674816  430    Climate change is a hoax, dumbass. https://t.co/4zKR2mg4cA                                                                                                       \n",
       "253  794253118053744640  428    .@SenTomCotton: The Clinton Foundation may be the world's largest money laundering and influence-peddling operation  #HillaryIndictment https://t.co/RODR1rH7TA  \n",
       "342  802992739184848896  405    #PresidentTrump will do an extraordinary job as our next president!  #MakeAmericaGreatAgain https://t.co/SbiFUFauiX                                              \n",
       "304  797314970174320640  399    The terrorists that hurt this dog should be sentenced to death by firing squad.\\nIt's time to hunt these bastards down.\\nCC: @joannakrupa https://t.co/Wy5SrUrjM4\n",
       "334  801797239748366336  384    Hillary CLINTON in JAIL! https://t.co/wlYCDqJJF0\"                                                                                                                \n",
       "129  784785439043354626  382    #Trump caught on tape making extremely ride, sexually aggressive comments about women https://t.co/DMwSd4WDHT                                                    \n",
       "113  782712392111108096  359    This is important  #BlackLivesMatter https://t.co/qaZvvMIGuU                                                                                                     \n",
       "23   774970939922456576  349    This has nothing to do with racism https://t.co/XJcBbVZ1t3                                                                                                       \n",
       "234  792485734678659072  330    The whole nation for Trump!  Amazing! https://t.co/10SetXgd01                                                                                                    \n",
       "105  782044614740086785  326    True! #BlackLivesMatter https://t.co/9PlWdgor85                                                                                                                  \n",
       "387  809231302704533504  314    .@EllisonCampaign\\nFact 18 https://t.co/ZuR0Zyd0l5                                                                                                               \n",
       "24   775060982053892096  313    .@JudgeJeanine: \"You, Hillary, are a liar, and a pathological one at that. You’re a cheat.\"  #ClintonCollapse https://t.co/qPYHgOizP5                            \n",
       "45   777960584016867329  308    Exactly this! #BlackLivesMatter https://t.co/Bvt2jk1asx                                                                                                          \n",
       "77   780060609140240385  279    NYT editorial board endorses Clinton https://t.co/cyv2bc7ucL #politics https://t.co/L4WF33zxIr                                                                   \n",
       "184  788152627569635328  274    So powerful... #BlackLivesMatter https://t.co/lUUX127WHf                                                                                                         \n",
       "111  782550449685684224  268    Fitting #HillaryForPrison https://t.co/cP3qULW0rs                                                                                                                \n",
       "138  785309451855147010  256    I want to congratulate Mr. President Trump on winning the #Debate &amp; thank him for loving America!  Please show your support! https://t.co/e3puKauqPL         \n",
       "256  795015359464022016  254    .@BarackObama exposes @HillaryClinton!  #CrookedHillary https://t.co/wzIwyOewiK                                                                                  \n",
       "168  787073997678579712  246    WATCH: Trump says 'this whole election is being rigged' https://t.co/kiLgHyuILn                                                                                  \n",
       "139  785327017847693312  245    That's what we want! #BlackLivesMatter https://t.co/y0jWwTHZPK                                                                                                   \n",
       "74   779765135833337856  237    NYT editorial board endorses Clinton https://t.co/ZaFGu2MsRB #politics                                                                                           \n",
       "61   779234433920413697  218    #CrookedHillary using dishonest media and trying to fool everyone... https://t.co/6OtuvzRxbG                                                                     \n",
       "572  846534135606923265  216    @realDonaldTrump They are criminals who belong in jail!                                                                                                          \n",
       "28   775528717846126592  214    @surfsalterpath blameObama                                                                                                                                       \n",
       "29   775632642708385792  208    #DeplorableHillary #Hypocrite #ExtremelyCareless #Clintonliesmatter #ClintonCoverUp#ClintonSpinMachine #ClintonLies https://t.co/45OCrCbmwm                      \n",
       "289  796247633224343552  204    Congratulations, President Donald J. Trump! America Will Be Great Again! https://t.co/sXCZD3hr8h                                                                 \n",
       "17   774648161373528065  192    'Hillary Clinton may be the most corrupt person ever to seek the presidency'~ Donald Trump https://t.co/vzF3sy0w2B                                               \n",
       "339  802726552668499968  191    .@74f5c728e7d446d @CNN Time to #BoycottCNN!                                                                                                                      \n",
       "696  851937007483932673  191    BREAKING: President Trump says he is not sending troops into Syria   #AmericaFirst                                                                               \n",
       "344  803434760114577408  188    .@realDonaldTrump It's time to #BoycottCNN!                                                                                                                      \n",
       "283  796129860951359488  180    @captain_nappy Yes, Hillary IS the queen of fuckery. #HillaryForPrison2016 #treason #TrumpForPresident                                                           \n",
       "167  787034343017361408  175    More women accuse Donald Trump of sexual misconduct https://t.co/eHpflYMp8c                                                                                      \n",
       "64   779361546786840577  171    Cincinnati Enquirer endorses Hillary Clinton for president https://t.co/dxsnK3PYeg #politics                                                                     \n",
       "143  785423941930217472  164    Foke Hillary Clinton scores decisive win against Donald Trump in first snap polls https://t.co/ha6m9wJm16 #Foke                                                  \n",
       "286  796132291118592004  163    . JUSTICE FOR HILLARY  -- BRING HER TO HEEL  To Lock Her Up --WE MUST-- Lock Her Out  #LockHerUp #CrookedHillary #Rigg… #TrumpForPresident                       \n",
       "490  841982932503912449  159    @todayinsyria 25 people were killed                                                                                                                              \n",
       "235  792492015606829056  154    Why some Obamacare customers are seeing massive premium increases https://t.co/EVJUt9Sp36                                                                        \n",
       "588  847245239098130433  151    Remember that Islam is the #ReligionOfPeace https://t.co/xIqj8cFILo                                                                                              \n",
       "898  861925709542866944  149    @Aditiyaramdass1 @BigDuhie1955 Fuck u FuckIslam                                                                                                                  \n",
       "248  793524259284918273  142    The #FBI says there is no direct connection between #DonaldTrump and #Russia https://t.co/d49r8kaOal                                                             \n",
       "264  796048641307906048  142    @TheDemocrats the Only Candidate that should be in Prison @HillaryClinton #LockHerUp https://t.co/vYk6wW2BZj #TrumpForPresident                                  \n",
       "332  801750428811755520  139    HILLARY CLINTON IN PRISON.                                                                                                                                       \n",
       "763  855099681696776198  134    @__JawanFDU MY bed.\\n😡                                                                                                                                           \n",
       "377  807804193415143424  128    .@HillaryClinton picks her cabinet...  #HillaryForPrison #LockHerUp https://t.co/5BUi92AvTe                                                                      \n",
       "613  848211748041756674  127    Trump calls White House-Russia controversy 'fake news,' 'total scam' https://t.co/2Imv5fagxv                                                                     \n",
       "928  864563242387075074  125    Donald Trump is his administration's own worst enemy https://t.co/4Uuk0os9I7                                                                                     \n",
       "293  796438641060945920  123    @JohnLegere @realDonaldTrump Thank you!  #MakeAmericaGreatAgain                                                                                                  \n",
       "714  852541793996591104  121    That's how #ReligionOfPeace works #BanIslam https://t.co/wi6tm6LX3d                                                                                              \n",
       "126  784567586633777152  120    Trump caught on video making lewd, crude remarks about women https://t.co/g0dgWof161 #politics                                                                   \n",
       "394  810011665546608640  118    .@HillaryClinton should be prosecuted!  #HillaryForPrison #LockHerUp  https://t.co/JJXsN200p5                                                                    \n",
       "699  852086925175513088  116    Trump Says 'We're Not Going Into Syria' in New Fox Interview https://t.co/xXsUzgJ5QF https://t.co/iDS4B0ULOV                                                     \n",
       "294  796557013895487488  114    When someone asks you why President Trump won.\\n#TrumpTrain \\n#MakeAmericaGreatAgain https://t.co/YnpiFTlqvx                                                     \n",
       "317  799293617839996928  113    Donald Trump's election has unleashed the hate https://t.co/noVUBn8Xhs https://t.co/9rARkm94cE                                                                   \n",
       "355  804527110035533826  112    Anti-Trump demonstrators march outside speech https://t.co/bhfiff1uli https://t.co/6SCUCgLNDN                                                                    \n",
       "272  796110435896410112  110    Hillary should just be in prison no big deal #TrumpForPresident                                                                                                  \n",
       "537  843910146824781824  109    @hrtablaze Disgusting how their hate for Trump overrides common sense.                                                                                           \n",
       "41   776970016834981888  109    Damn, #LyinCrookedHillary's #lies are pretty sickening. https://t.co/bCSrgEAQWC                                                                                  \n",
       "25   775105694701801472  108    @schweinehund74 @PrincessGabGab1 great point! Only #CrookedLyingHillary!!!                                                                                       \n",
       "179  787966380440186880  104    The Battle for Mosul https://t.co/fzlYNtGXJa                                                                                                                     \n",
       "210  790369725335400448  103    .@JudgeJeanine: \"Hillary Clinton is a liar and the WikiLeaks emails prove it.\" https://t.co/j0TnFn7rXP                                                           \n",
       "279  796119727856906242  102    Hillary is corrupt through and through. Send her to prison. #HillaryForPrison2016 https://t.co/HElIXYd0Mt #TrumpForPresident                                     "
      ]
     },
     "execution_count": 1310,
     "metadata": {},
     "output_type": "execute_result"
    }
   ],
   "source": [
    "frequent_tweets_df.head(100)"
   ]
  },
  {
   "cell_type": "code",
   "execution_count": 1311,
   "metadata": {},
   "outputs": [],
   "source": [
    "frequent_tweets_df = frequent_tweets_df.rename(columns={'count': 'frequency'})"
   ]
  },
  {
   "cell_type": "code",
   "execution_count": 1312,
   "metadata": {},
   "outputs": [],
   "source": [
    "frequent_tweets_df.to_csv('./results/frequent_tweets_one_month_td_for_authors_with_multiple_hits.csv')"
   ]
  },
  {
   "cell_type": "code",
   "execution_count": null,
   "metadata": {},
   "outputs": [],
   "source": []
  }
 ],
 "metadata": {
  "kernelspec": {
   "display_name": "Python 3",
   "language": "python",
   "name": "python3"
  },
  "language_info": {
   "codemirror_mode": {
    "name": "ipython",
    "version": 3
   },
   "file_extension": ".py",
   "mimetype": "text/x-python",
   "name": "python",
   "nbconvert_exporter": "python",
   "pygments_lexer": "ipython3",
   "version": "3.6.12"
  }
 },
 "nbformat": 4,
 "nbformat_minor": 4
}
