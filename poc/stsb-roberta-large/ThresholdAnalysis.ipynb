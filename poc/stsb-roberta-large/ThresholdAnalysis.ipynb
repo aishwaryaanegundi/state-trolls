{
 "cells": [
  {
   "cell_type": "code",
   "execution_count": 1,
   "metadata": {},
   "outputs": [
    {
     "name": "stderr",
     "output_type": "stream",
     "text": [
      "  0%|          | 0/4 [00:00<?, ?it/s]/INET/state-trolls/work/state-trolls/miniconda3/envs/env3/lib/python3.6/site-packages/ipykernel_launcher.py:30: DtypeWarning: Columns (15) have mixed types.Specify dtype option on import or set low_memory=False.\n",
      " 25%|██▌       | 1/4 [00:01<00:04,  1.62s/it]/INET/state-trolls/work/state-trolls/miniconda3/envs/env3/lib/python3.6/site-packages/ipykernel_launcher.py:30: DtypeWarning: Columns (15,19) have mixed types.Specify dtype option on import or set low_memory=False.\n",
      " 50%|█████     | 2/4 [00:06<00:05,  2.58s/it]/INET/state-trolls/work/state-trolls/miniconda3/envs/env3/lib/python3.6/site-packages/ipykernel_launcher.py:30: DtypeWarning: Columns (30) have mixed types.Specify dtype option on import or set low_memory=False.\n",
      "100%|██████████| 4/4 [00:54<00:00, 13.60s/it]\n"
     ]
    },
    {
     "name": "stdout",
     "output_type": "stream",
     "text": [
      "Number of tweets in the dataset:  9995700\n",
      "Number of English tweets in the dataset:  3739633\n",
      "Number of tweets in the dataset after filtering:  3170632\n",
      "Number of English tweets in the filtered dataset:  1759076\n",
      "Number of english tweets after filtering and preprocessing before dropping the duplicates:  1757447\n",
      "Number of english tweets after filtering and preprocessing and dropping the duplicates:  1662395\n"
     ]
    }
   ],
   "source": [
    "import numpy as np \n",
    "import pandas as pd\n",
    "import csv\n",
    "import os\n",
    "import re\n",
    "import matplotlib.pyplot as plt\n",
    "from tqdm import tqdm\n",
    "import time\n",
    "import random\n",
    "import emoji\n",
    "import string\n",
    "import json\n",
    "import nltk\n",
    "\n",
    "from sklearn.metrics import pairwise_distances\n",
    "from scipy.spatial.distance import cosine\n",
    "\n",
    "# list of all the dataset files\n",
    "\n",
    "dataset_paths = [\"/INET/state-trolls/work/state-trolls/datasets/russia_052020_tweets_csv_hashed_2.csv\", \n",
    "         \"/INET/state-trolls/work/state-trolls/datasets/russian_linked_tweets_csv_hashed.csv\", \n",
    "         \"/INET/state-trolls/work/state-trolls/datasets/ira_tweets_csv_hashed.csv\", \n",
    "         \"/INET/state-trolls/work/state-trolls/datasets/russia_201906_1_tweets_csv_hashed.csv\"]\n",
    "\n",
    "# path to store the entire combined dataset\n",
    "combined_dataset_path = \"../datasets/russian_trolls.csv\"\n",
    "\n",
    "# returns a pandas dataframe consisting of entries from all the dataset files\n",
    "def get_combined_dataset(paths):\n",
    "    data = pd.concat((pd.read_csv(file) for file in tqdm(paths)))\n",
    "    return data\n",
    "\n",
    "data = get_combined_dataset(dataset_paths)\n",
    "print(\"Number of tweets in the dataset: \", data.shape[0])\n",
    "\n",
    "# extracts just the english tweets by using the language tag\n",
    "is_english_tweet = data['tweet_language'] == 'en'\n",
    "english_data = data[is_english_tweet]\n",
    "\n",
    "print(\"Number of English tweets in the dataset: \", english_data.shape[0])\n",
    "english_tweet_data = english_data[['tweetid', 'tweet_text']]\n",
    "\n",
    "# takes list of tweets as input and returns list of pre-processed tweets as output\n",
    "def preprocess(tweets):\n",
    "    processed_tweets = []\n",
    "    for tweet in tweets:\n",
    "        result = re.sub(r\"http\\S+\", \"\", tweet)\n",
    "        result = re.sub(r\"RT @\\S+\", \"\", result)\n",
    "        result = re.sub(r\"@\\S+\", \"\", result)\n",
    "        result = re.sub(emoji.get_emoji_regexp(), \"\", result)\n",
    "        result_removed_punctuation = result.translate(str.maketrans('', '', string.punctuation))\n",
    "        result = re.sub(r\"[^a-zA-Z0-9 ]\", \"\", result_removed_punctuation)\n",
    "        processed_tweets.append(result)\n",
    "    return processed_tweets\n",
    "\n",
    "# Filtering data between 01.01.2019 to 01.07.2017\n",
    "data['tweet_time'] = pd.to_datetime(data['tweet_time'], format = '%Y-%m-%d')\n",
    "start_date = '2016-01-01'\n",
    "end_date = '2017-07-01'\n",
    "mask = (data['tweet_time'] > start_date) & (data['tweet_time'] <= end_date)\n",
    "data = data.loc[mask]\n",
    "print(\"Number of tweets in the dataset after filtering: \", data.shape[0])\n",
    "\n",
    "\n",
    "# extracts just the english tweets by using the language tag\n",
    "is_english_tweet = data['tweet_language'] == 'en'\n",
    "f_english_data = data[is_english_tweet]\n",
    "print(\"Number of English tweets in the filtered dataset: \", f_english_data.shape[0])\n",
    "f_english_tweet_data = f_english_data[['tweetid', 'tweet_text']]\n",
    "\n",
    "tweets = f_english_tweet_data['tweet_text']\n",
    "tweets = preprocess(tweets)\n",
    "\n",
    "f_english_tweet_data = f_english_tweet_data.assign(processed_tweets = tweets)\n",
    "\n",
    "# removes the entries having empty string after preprocessing\n",
    "is_not_empty_string = f_english_tweet_data['processed_tweets'].apply(lambda x: not str.isspace(x))\n",
    "f_english_tweet_data = f_english_tweet_data[is_not_empty_string]\n",
    "print(\"Number of english tweets after filtering and preprocessing before dropping the duplicates: \", f_english_tweet_data.shape[0])\n",
    "f_english_tweet_data.drop_duplicates(subset =\"tweetid\", keep = 'first', inplace = True) \n",
    "f_english_tweet_data = f_english_tweet_data.reset_index()\n",
    "print(\"Number of english tweets after filtering and preprocessing and dropping the duplicates: \", f_english_tweet_data.shape[0])\n",
    "twitter_data = f_english_tweet_data\n"
   ]
  },
  {
   "cell_type": "code",
   "execution_count": 2,
   "metadata": {},
   "outputs": [],
   "source": [
    "# ## Set up of PysSpark dataframe for Reddit Data\n",
    "import pyspark\n",
    "from pyspark import SparkConf\n",
    "from pyspark import SparkContext\n",
    "from pyspark.sql.functions import col, asc\n",
    "\n",
    "# You can configure the SparkContext\n",
    "\n",
    "conf = SparkConf()\n",
    "conf.set('spark.local.dir', '/INET/state-trolls/work/state-trolls/poc/')\n",
    "conf.set('spark.sql.shuffle.partitions', '2100')\n",
    "SparkContext.setSystemProperty('spark.executor.memory', '10g')\n",
    "SparkContext.setSystemProperty('spark.driver.memory', '10g')\n",
    "sc = SparkContext(appName='mm_exp', conf=conf)\n",
    "sqlContext = pyspark.SQLContext(sc)"
   ]
  },
  {
   "cell_type": "code",
   "execution_count": 95,
   "metadata": {},
   "outputs": [],
   "source": [
    "reddit_data = sqlContext.read.json('/INET/state-trolls/work/state-trolls/reddit_dataset/comments/RC_2016-03.bz2.decompressed')"
   ]
  },
  {
   "cell_type": "code",
   "execution_count": 15,
   "metadata": {},
   "outputs": [],
   "source": [
    "import math\n",
    "import glob\n",
    "import json\n",
    "range_counts = np.zeros(10)\n",
    "l = np.empty((10, 0)).tolist()\n",
    "f = []"
   ]
  },
  {
   "cell_type": "code",
   "execution_count": null,
   "metadata": {},
   "outputs": [],
   "source": [
    "i = 0\n",
    "for name in glob.glob('/INET/state-trolls/work/state-trolls/reddit_dataset/comments/annotations/formatted/RC_2016-03*'):\n",
    "    print(i)\n",
    "    with open(name, 'r') as read_file:\n",
    "        jdata = json.load(read_file)\n",
    "        df = pd.DataFrame(jdata)\n",
    "        sample_df = df.sample(n = 17000)\n",
    "        post_id = df.iloc[0]['post_id']\n",
    "        post = reddit_data.where((col(\"id\") == post_id)).collect()[0]\n",
    "        for index, row in sample_df.iterrows():\n",
    "            cos_sim = row['cosine_similarity']\n",
    "            cos_sim = float(cos_sim)\n",
    "            tweet_id = row['tweet_id']\n",
    "            tweet = twitter_data.loc[twitter_data['tweetid'] == int(tweet_id)]\n",
    "            tweet_text = tweet.iloc[0]['processed_tweets']\n",
    "            range_index = 0\n",
    "            if (cos_sim > 0):\n",
    "                range_index = math.floor(cos_sim*10)\n",
    "            if (cos_sim > 1):\n",
    "                range_index = 9\n",
    "            if (range_counts[range_index] < 50):\n",
    "                range_counts[range_index] = range_counts[range_index] + 1\n",
    "                d = {'tweet': tweet_text, 'post': post['body'], 'sim': cos_sim, 's_id': row['s_id']}\n",
    "                l[range_index].append(d)\n",
    "    i = i + 1\n",
    "    print(range_counts)              "
   ]
  },
  {
   "cell_type": "code",
   "execution_count": null,
   "metadata": {},
   "outputs": [],
   "source": [
    "f.append(l)"
   ]
  },
  {
   "cell_type": "code",
   "execution_count": null,
   "metadata": {},
   "outputs": [],
   "source": [
    "i = 0\n",
    "for name in glob.glob('/INET/state-trolls/work/state-trolls/reddit_dataset/comments/annotations/formatted/RC_2016-03*'):\n",
    "    if(range_counts[5] >1500 ):\n",
    "        break\n",
    "    print(i)\n",
    "    with open(name, 'r') as read_file:\n",
    "        jdata = json.load(read_file)\n",
    "        df = pd.DataFrame(jdata)\n",
    "        df = df.astype({'cosine_similarity':float})\n",
    "        selected_df = df.loc[(df['cosine_similarity'] > 0.5) & (df['cosine_similarity'] <= 0.6)]\n",
    "        print('len: ', len(selected_df))\n",
    "        if(len(selected_df) > 1000):\n",
    "            selected_df = selected_df.sample(n = 1000)\n",
    "        if (len(selected_df)>0):\n",
    "            post_id = df.iloc[0]['post_id']\n",
    "            print(post_id)\n",
    "            post = reddit_data.where((col(\"id\") == post_id)).collect()[0]\n",
    "            for index, row in selected_df.iterrows():\n",
    "                cos_sim = row['cosine_similarity']\n",
    "                cos_sim = float(cos_sim)\n",
    "                tweet_id = row['tweet_id']\n",
    "                tweet = twitter_data.loc[twitter_data['tweetid'] == int(tweet_id)]\n",
    "                tweet_text = tweet.iloc[0]['processed_tweets']\n",
    "                range_index = 0\n",
    "                if (cos_sim > 0):\n",
    "                    range_index = math.floor(cos_sim*10)\n",
    "                if (cos_sim > 1):\n",
    "                    range_index = 9\n",
    "                if (range_counts[range_index] < 1500):\n",
    "                    range_counts[range_index] = range_counts[range_index] + 1\n",
    "                    d = {'tweet': tweet_text, 'post': post['body'], 'sim': cos_sim, 's_id': row['s_id']}\n",
    "                    l[range_index].append(d)\n",
    "        i = i + 1\n",
    "           "
   ]
  },
  {
   "cell_type": "code",
   "execution_count": 108,
   "metadata": {},
   "outputs": [],
   "source": [
    "import random\n",
    "\n",
    "f= []\n",
    "for e in l:\n",
    "    r = random.sample(e, 50)\n",
    "    for i in r:\n",
    "        f.append(i)"
   ]
  },
  {
   "cell_type": "code",
   "execution_count": 109,
   "metadata": {},
   "outputs": [
    {
     "data": {
      "text/plain": [
       "500"
      ]
     },
     "execution_count": 109,
     "metadata": {},
     "output_type": "execute_result"
    }
   ],
   "source": [
    "len(f)"
   ]
  },
  {
   "cell_type": "code",
   "execution_count": 110,
   "metadata": {},
   "outputs": [
    {
     "name": "stdout",
     "output_type": "stream",
     "text": [
      "500\n"
     ]
    },
    {
     "data": {
      "text/html": [
       "<div>\n",
       "<style scoped>\n",
       "    .dataframe tbody tr th:only-of-type {\n",
       "        vertical-align: middle;\n",
       "    }\n",
       "\n",
       "    .dataframe tbody tr th {\n",
       "        vertical-align: top;\n",
       "    }\n",
       "\n",
       "    .dataframe thead th {\n",
       "        text-align: right;\n",
       "    }\n",
       "</style>\n",
       "<table border=\"1\" class=\"dataframe\">\n",
       "  <thead>\n",
       "    <tr style=\"text-align: right;\">\n",
       "      <th></th>\n",
       "      <th>tweet</th>\n",
       "      <th>post</th>\n",
       "      <th>sim</th>\n",
       "      <th>s_id</th>\n",
       "      <th>post_sentence</th>\n",
       "    </tr>\n",
       "  </thead>\n",
       "  <tbody>\n",
       "    <tr>\n",
       "      <th>0</th>\n",
       "      <td>ItsTheEndOfTheWorldAnd I cant be bothered bec...</td>\n",
       "      <td>My point is that teams are making moves to fil...</td>\n",
       "      <td>0.498970</td>\n",
       "      <td>2</td>\n",
       "      <td>If your only reason for being good is that not...</td>\n",
       "    </tr>\n",
       "    <tr>\n",
       "      <th>1</th>\n",
       "      <td>Thank you</td>\n",
       "      <td>Thank you :)</td>\n",
       "      <td>0.998981</td>\n",
       "      <td>0</td>\n",
       "      <td>Thank you :)</td>\n",
       "    </tr>\n",
       "    <tr>\n",
       "      <th>2</th>\n",
       "      <td>Thanks for holding</td>\n",
       "      <td>Thanks. I'll be sure to post similar things to...</td>\n",
       "      <td>0.711844</td>\n",
       "      <td>0</td>\n",
       "      <td>Thanks.</td>\n",
       "    </tr>\n",
       "    <tr>\n",
       "      <th>3</th>\n",
       "      <td>This is so unfair</td>\n",
       "      <td>I talked to a friend who owns a couple Chinese...</td>\n",
       "      <td>0.680722</td>\n",
       "      <td>9</td>\n",
       "      <td>And she ain't wrong.</td>\n",
       "    </tr>\n",
       "    <tr>\n",
       "      <th>4</th>\n",
       "      <td>thank you</td>\n",
       "      <td>Thanks. I'll be sure to post similar things to...</td>\n",
       "      <td>0.912710</td>\n",
       "      <td>0</td>\n",
       "      <td>Thanks.</td>\n",
       "    </tr>\n",
       "  </tbody>\n",
       "</table>\n",
       "</div>"
      ],
      "text/plain": [
       "                                               tweet  \\\n",
       "0   ItsTheEndOfTheWorldAnd I cant be bothered bec...   \n",
       "1                                         Thank you    \n",
       "2                                Thanks for holding    \n",
       "3                                 This is so unfair    \n",
       "4                                          thank you   \n",
       "\n",
       "                                                post       sim  s_id  \\\n",
       "0  My point is that teams are making moves to fil...  0.498970     2   \n",
       "1                                       Thank you :)  0.998981     0   \n",
       "2  Thanks. I'll be sure to post similar things to...  0.711844     0   \n",
       "3  I talked to a friend who owns a couple Chinese...  0.680722     9   \n",
       "4  Thanks. I'll be sure to post similar things to...  0.912710     0   \n",
       "\n",
       "                                       post_sentence  \n",
       "0  If your only reason for being good is that not...  \n",
       "1                                       Thank you :)  \n",
       "2                                            Thanks.  \n",
       "3                               And she ain't wrong.  \n",
       "4                                            Thanks.  "
      ]
     },
     "execution_count": 110,
     "metadata": {},
     "output_type": "execute_result"
    }
   ],
   "source": [
    "random.shuffle(f)\n",
    "f_df = pd.DataFrame(f)\n",
    "# f_df.head()\n",
    "\n",
    "s = []\n",
    "for index, row in f_df.iterrows():\n",
    "    post_text = row['post']\n",
    "    sentences = nltk.sent_tokenize(post_text)  \n",
    "    sentence = sentences[row['s_id']]\n",
    "    s.append(sentence)\n",
    "print(len(s))\n",
    "f_df = f_df.assign(post_sentence = s)\n",
    "f_df.head()"
   ]
  },
  {
   "cell_type": "code",
   "execution_count": 111,
   "metadata": {},
   "outputs": [],
   "source": [
    "f_df.to_csv('stsb_500_random_hits_v2.csv')"
   ]
  },
  {
   "cell_type": "markdown",
   "metadata": {},
   "source": [
    "# Matrix for threshold analysis"
   ]
  },
  {
   "cell_type": "code",
   "execution_count": 293,
   "metadata": {},
   "outputs": [],
   "source": [
    "m_df = pd.read_csv('/INET/state-trolls/work/state-trolls/poc/stsb-roberta-large/stsb_500_random_hits_v2.csv')\n",
    "m_df2 = pd.read_csv('/INET/state-trolls/work/state-trolls/poc/stsb-roberta-large/stsb_copy1.csv') "
   ]
  },
  {
   "cell_type": "code",
   "execution_count": 298,
   "metadata": {},
   "outputs": [],
   "source": [
    "annotation_df = pd.DataFrame()\n",
    "annotation_df['annotation'] = m_df2['final_annotation']\n",
    "annotation_df['cos-sim'] = m_df['sim']"
   ]
  },
  {
   "cell_type": "code",
   "execution_count": 300,
   "metadata": {},
   "outputs": [],
   "source": [
    "matrix_0 = []\n",
    "matrix_1 = []\n",
    "from sklearn.metrics import classification_report\n",
    "target_names = ['irrelevant', 'relevant']\n",
    "for threshold in np.arange(0.05, 1.0, 0.05):\n",
    "    annotation_df['true-values'] = np.where(annotation_df['cos-sim'] > threshold, 1, 0)\n",
    "    c = classification_report(annotation_df['true-values'],\n",
    "                              annotation_df['annotation'], target_names=target_names, output_dict = True)\n",
    "    matrix_0.append({'threshold': threshold, 'class': '0',\n",
    "                   'precision' : (c['irrelevant'])['precision'],\n",
    "                  'recall': (c['irrelevant'])['recall'],\n",
    "                  'f1-score': (c['irrelevant'])['f1-score'],\n",
    "                  'support': (c['irrelevant'])['support'],\n",
    "                  'accuracy': c['accuracy']})\n",
    "    matrix_1.append({'threshold': threshold, 'class': '1',\n",
    "                   'precision' : (c['relevant'])['precision'],\n",
    "                  'recall': (c['relevant'])['recall'],\n",
    "                  'f1-score': (c['relevant'])['f1-score'],\n",
    "                  'support': (c['relevant'])['support'],\n",
    "                  'accuracy': c['accuracy']})\n",
    "#     print(c)"
   ]
  },
  {
   "cell_type": "code",
   "execution_count": 302,
   "metadata": {},
   "outputs": [],
   "source": [
    "pd.DataFrame(matrix_1).to_csv('threshold-analysis-matrix-combined.csv')"
   ]
  },
  {
   "cell_type": "markdown",
   "metadata": {},
   "source": [
    "# Important tweet Analysis"
   ]
  },
  {
   "cell_type": "code",
   "execution_count": 317,
   "metadata": {},
   "outputs": [],
   "source": [
    "import numpy as np \n",
    "import pandas as pd\n",
    "import string\n",
    "import json\n",
    "import glob\n",
    "import os\n",
    "\n",
    "\n",
    "with open('/INET/state-trolls/work/state-trolls/reddit_dataset/comments/scores/RC_2016-01.bz2.decompressed/1_scores_stsb.txt', 'r') as content_file:\n",
    "    content = content_file.read()\n",
    "    json_data = content.replace('][',',')\n",
    "    j_object = json.loads(json_data)\n",
    "\n",
    "with open('/INET/state-trolls/work/state-trolls/reddit_dataset/comments/j.json', 'w') as fout:\n",
    "    json.dump(j_object, fout)\n",
    "\n"
   ]
  },
  {
   "cell_type": "code",
   "execution_count": 367,
   "metadata": {},
   "outputs": [],
   "source": [
    "import collections\n",
    "j_df = pd.DataFrame(j_object)\n",
    "counts = collections.Counter(j_df['tweet_id'].tolist())\n",
    "counts_sorted = counts.most_common()\n",
    "c_df = pd.DataFrame(counts_sorted, columns=['tweet_id', 'frequency'])"
   ]
  },
  {
   "cell_type": "code",
   "execution_count": null,
   "metadata": {
    "scrolled": true
   },
   "outputs": [],
   "source": [
    "dicts = []\n",
    "for item in counts_sorted: \n",
    "    text = (f_english_tweet_data.loc[f_english_tweet_data['tweetid'] == item[0]])['processed_tweets']\n",
    "    dicts.append({'text': text, 'count': item[1]})"
   ]
  },
  {
   "cell_type": "code",
   "execution_count": 369,
   "metadata": {},
   "outputs": [
    {
     "name": "stderr",
     "output_type": "stream",
     "text": [
      "/INET/state-trolls/work/state-trolls/miniconda3/envs/env3/lib/python3.6/site-packages/ipykernel_launcher.py:2: DeprecationWarning: Passing normed=False is deprecated, and has no effect. Consider passing the density argument instead.\n",
      "  \n"
     ]
    },
    {
     "data": {
      "text/plain": [
       "Text(0, 0.5, 'Fits hits of 10k posts')"
      ]
     },
     "execution_count": 369,
     "metadata": {},
     "output_type": "execute_result"
    },
    {
     "data": {
      "image/png": "[encoded data removed]",
      "text/plain": [
       "<Figure size 432x288 with 1 Axes>"
      ]
     },
     "metadata": {
      "needs_background": "light"
     },
     "output_type": "display_data"
    }
   ],
   "source": [
    "frequencies = c_df['frequency'].to_list()\n",
    "counts, bin_edges = np.histogram (frequencies, bins=20, normed=False)\n",
    "cdf = np.cumsum (counts)\n",
    "plt.plot(bin_edges[1:], cdf/cdf[-1])\n",
    "plt.xlabel('frequencies')\n",
    "plt.ylabel('Fits hits of 10k posts')"
   ]
  },
  {
   "cell_type": "code",
   "execution_count": 371,
   "metadata": {},
   "outputs": [
    {
     "data": {
      "text/plain": [
       "Index(['tweet_id', 'frequency'], dtype='object')"
      ]
     },
     "execution_count": 371,
     "metadata": {},
     "output_type": "execute_result"
    }
   ],
   "source": [
    "c_df.keys()"
   ]
  },
  {
   "cell_type": "code",
   "execution_count": null,
   "metadata": {},
   "outputs": [],
   "source": []
  }
 ],
 "metadata": {
  "kernelspec": {
   "display_name": "Python 3",
   "language": "python",
   "name": "python3"
  },
  "language_info": {
   "codemirror_mode": {
    "name": "ipython",
    "version": 3
   },
   "file_extension": ".py",
   "mimetype": "text/x-python",
   "name": "python",
   "nbconvert_exporter": "python",
   "pygments_lexer": "ipython3",
   "version": "3.6.12"
  }
 },
 "nbformat": 4,
 "nbformat_minor": 4
}
